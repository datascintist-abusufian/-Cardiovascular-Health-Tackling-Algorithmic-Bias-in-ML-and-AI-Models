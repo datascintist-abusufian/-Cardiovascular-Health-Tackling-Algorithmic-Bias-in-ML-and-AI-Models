{
  "nbformat": 4,
  "nbformat_minor": 0,
  "metadata": {
    "colab": {
      "provenance": []
    },
    "kernelspec": {
      "name": "python3",
      "display_name": "Python 3"
    },
    "language_info": {
      "name": "python"
    }
  },
  "cells": [
    {
      "cell_type": "code",
      "execution_count": null,
      "metadata": {
        "colab": {
          "base_uri": "https://localhost:8080/"
        },
        "id": "8g08XZ9oSm2I",
        "outputId": "6fc2b76b-7b90-43c1-cb50-b614fb5d570a"
      },
      "outputs": [
        {
          "output_type": "stream",
          "name": "stdout",
          "text": [
            "Collecting aif360\n",
            "  Downloading aif360-0.6.1-py3-none-any.whl (259 kB)\n",
            "\u001b[?25l     \u001b[90m━━━━━━━━━━━━━━━━━━━━━━━━━━━━━━━━━━━━━━━━\u001b[0m \u001b[32m0.0/259.7 kB\u001b[0m \u001b[31m?\u001b[0m eta \u001b[36m-:--:--\u001b[0m\r\u001b[2K     \u001b[91m━━━━━━━━━━━━━━━━━━━━\u001b[0m\u001b[91m╸\u001b[0m\u001b[90m━━━━━━━━━━━━━━━━━━━\u001b[0m \u001b[32m133.1/259.7 kB\u001b[0m \u001b[31m3.7 MB/s\u001b[0m eta \u001b[36m0:00:01\u001b[0m\r\u001b[2K     \u001b[90m━━━━━━━━━━━━━━━━━━━━━━━━━━━━━━━━━━━━━━━━\u001b[0m \u001b[32m259.7/259.7 kB\u001b[0m \u001b[31m4.6 MB/s\u001b[0m eta \u001b[36m0:00:00\u001b[0m\n",
            "\u001b[?25hRequirement already satisfied: numpy>=1.16 in /usr/local/lib/python3.10/dist-packages (from aif360) (1.25.2)\n",
            "Requirement already satisfied: scipy>=1.2.0 in /usr/local/lib/python3.10/dist-packages (from aif360) (1.11.4)\n",
            "Requirement already satisfied: pandas>=0.24.0 in /usr/local/lib/python3.10/dist-packages (from aif360) (2.0.3)\n",
            "Requirement already satisfied: scikit-learn>=1.0 in /usr/local/lib/python3.10/dist-packages (from aif360) (1.2.2)\n",
            "Requirement already satisfied: matplotlib in /usr/local/lib/python3.10/dist-packages (from aif360) (3.7.1)\n",
            "Requirement already satisfied: python-dateutil>=2.8.2 in /usr/local/lib/python3.10/dist-packages (from pandas>=0.24.0->aif360) (2.8.2)\n",
            "Requirement already satisfied: pytz>=2020.1 in /usr/local/lib/python3.10/dist-packages (from pandas>=0.24.0->aif360) (2023.4)\n",
            "Requirement already satisfied: tzdata>=2022.1 in /usr/local/lib/python3.10/dist-packages (from pandas>=0.24.0->aif360) (2024.1)\n",
            "Requirement already satisfied: joblib>=1.1.1 in /usr/local/lib/python3.10/dist-packages (from scikit-learn>=1.0->aif360) (1.4.2)\n",
            "Requirement already satisfied: threadpoolctl>=2.0.0 in /usr/local/lib/python3.10/dist-packages (from scikit-learn>=1.0->aif360) (3.5.0)\n",
            "Requirement already satisfied: contourpy>=1.0.1 in /usr/local/lib/python3.10/dist-packages (from matplotlib->aif360) (1.2.1)\n",
            "Requirement already satisfied: cycler>=0.10 in /usr/local/lib/python3.10/dist-packages (from matplotlib->aif360) (0.12.1)\n",
            "Requirement already satisfied: fonttools>=4.22.0 in /usr/local/lib/python3.10/dist-packages (from matplotlib->aif360) (4.51.0)\n",
            "Requirement already satisfied: kiwisolver>=1.0.1 in /usr/local/lib/python3.10/dist-packages (from matplotlib->aif360) (1.4.5)\n",
            "Requirement already satisfied: packaging>=20.0 in /usr/local/lib/python3.10/dist-packages (from matplotlib->aif360) (24.0)\n",
            "Requirement already satisfied: pillow>=6.2.0 in /usr/local/lib/python3.10/dist-packages (from matplotlib->aif360) (9.4.0)\n",
            "Requirement already satisfied: pyparsing>=2.3.1 in /usr/local/lib/python3.10/dist-packages (from matplotlib->aif360) (3.1.2)\n",
            "Requirement already satisfied: six>=1.5 in /usr/local/lib/python3.10/dist-packages (from python-dateutil>=2.8.2->pandas>=0.24.0->aif360) (1.16.0)\n",
            "Installing collected packages: aif360\n",
            "Successfully installed aif360-0.6.1\n"
          ]
        },
        {
          "output_type": "stream",
          "name": "stderr",
          "text": [
            "WARNING:root:No module named 'fairlearn': ExponentiatedGradientReduction will be unavailable. To install, run:\n",
            "pip install 'aif360[Reductions]'\n",
            "WARNING:root:No module named 'fairlearn': GridSearchReduction will be unavailable. To install, run:\n",
            "pip install 'aif360[Reductions]'\n",
            "WARNING:root:No module named 'inFairness': SenSeI and SenSR will be unavailable. To install, run:\n",
            "pip install 'aif360[inFairness]'\n",
            "WARNING:root:No module named 'fairlearn': GridSearchReduction will be unavailable. To install, run:\n",
            "pip install 'aif360[Reductions]'\n"
          ]
        }
      ],
      "source": [
        "!pip install aif360\n",
        "%matplotlib inline\n",
        "# Load all necessary packages\n",
        "import sys\n",
        "sys.path.append(\"../\")\n",
        "from aif360.datasets import BinaryLabelDataset\n",
        "from aif360.datasets import StandardDataset\n",
        "from aif360.metrics import BinaryLabelDatasetMetric\n",
        "from aif360.metrics import ClassificationMetric\n",
        "from aif360.metrics.utils import compute_boolean_conditioning_vector\n",
        "\n",
        "from aif360.algorithms.preprocessing.optim_preproc_helpers.data_preproc_functions import load_preproc_data_adult, load_preproc_data_compas, load_preproc_data_german\n",
        "\n",
        "from aif360.algorithms.inprocessing.adversarial_debiasing import AdversarialDebiasing\n",
        "\n",
        "from sklearn.linear_model import LogisticRegression\n",
        "from sklearn.preprocessing import StandardScaler, MaxAbsScaler\n",
        "from sklearn.metrics import accuracy_score\n",
        "\n",
        "from IPython.display import Markdown, display\n",
        "import matplotlib.pyplot as plt\n",
        "\n",
        "import tensorflow.compat.v1 as tf\n",
        "tf.disable_eager_execution()"
      ]
    },
    {
      "cell_type": "markdown",
      "source": [
        "##Loading dataset"
      ],
      "metadata": {
        "id": "7qBbsMI8lEiz"
      }
    },
    {
      "cell_type": "code",
      "source": [
        "import pandas as pd\n",
        "# Load the dataset\n",
        "df = pd.read_csv('/content/cardio_train.csv', delimiter=';')\n",
        "df.head()\n",
        "df.info()\n",
        "df.describe()"
      ],
      "metadata": {
        "colab": {
          "base_uri": "https://localhost:8080/",
          "height": 668
        },
        "id": "YBvBDx6mVCGi",
        "outputId": "00aed285-d95d-4158-d4fa-58144e91e9a7"
      },
      "execution_count": null,
      "outputs": [
        {
          "output_type": "stream",
          "name": "stdout",
          "text": [
            "<class 'pandas.core.frame.DataFrame'>\n",
            "RangeIndex: 70000 entries, 0 to 69999\n",
            "Data columns (total 13 columns):\n",
            " #   Column       Non-Null Count  Dtype  \n",
            "---  ------       --------------  -----  \n",
            " 0   id           70000 non-null  int64  \n",
            " 1   age          70000 non-null  int64  \n",
            " 2   gender       70000 non-null  int64  \n",
            " 3   height       70000 non-null  int64  \n",
            " 4   weight       70000 non-null  float64\n",
            " 5   ap_hi        70000 non-null  int64  \n",
            " 6   ap_lo        70000 non-null  int64  \n",
            " 7   cholesterol  70000 non-null  int64  \n",
            " 8   gluc         70000 non-null  int64  \n",
            " 9   smoke        70000 non-null  int64  \n",
            " 10  alco         70000 non-null  int64  \n",
            " 11  active       70000 non-null  int64  \n",
            " 12  cardio       70000 non-null  int64  \n",
            "dtypes: float64(1), int64(12)\n",
            "memory usage: 6.9 MB\n"
          ]
        },
        {
          "output_type": "execute_result",
          "data": {
            "text/plain": [
              "                 id           age        gender        height        weight  \\\n",
              "count  70000.000000  70000.000000  70000.000000  70000.000000  70000.000000   \n",
              "mean   49972.419900  19468.865814      1.349571    164.359229     74.205690   \n",
              "std    28851.302323   2467.251667      0.476838      8.210126     14.395757   \n",
              "min        0.000000  10798.000000      1.000000     55.000000     10.000000   \n",
              "25%    25006.750000  17664.000000      1.000000    159.000000     65.000000   \n",
              "50%    50001.500000  19703.000000      1.000000    165.000000     72.000000   \n",
              "75%    74889.250000  21327.000000      2.000000    170.000000     82.000000   \n",
              "max    99999.000000  23713.000000      2.000000    250.000000    200.000000   \n",
              "\n",
              "              ap_hi         ap_lo   cholesterol          gluc         smoke  \\\n",
              "count  70000.000000  70000.000000  70000.000000  70000.000000  70000.000000   \n",
              "mean     128.817286     96.630414      1.366871      1.226457      0.088129   \n",
              "std      154.011419    188.472530      0.680250      0.572270      0.283484   \n",
              "min     -150.000000    -70.000000      1.000000      1.000000      0.000000   \n",
              "25%      120.000000     80.000000      1.000000      1.000000      0.000000   \n",
              "50%      120.000000     80.000000      1.000000      1.000000      0.000000   \n",
              "75%      140.000000     90.000000      2.000000      1.000000      0.000000   \n",
              "max    16020.000000  11000.000000      3.000000      3.000000      1.000000   \n",
              "\n",
              "               alco        active        cardio  \n",
              "count  70000.000000  70000.000000  70000.000000  \n",
              "mean       0.053771      0.803729      0.499700  \n",
              "std        0.225568      0.397179      0.500003  \n",
              "min        0.000000      0.000000      0.000000  \n",
              "25%        0.000000      1.000000      0.000000  \n",
              "50%        0.000000      1.000000      0.000000  \n",
              "75%        0.000000      1.000000      1.000000  \n",
              "max        1.000000      1.000000      1.000000  "
            ],
            "text/html": [
              "\n",
              "  <div id=\"df-007280be-cb34-4d50-ba33-8bbc0d680062\" class=\"colab-df-container\">\n",
              "    <div>\n",
              "<style scoped>\n",
              "    .dataframe tbody tr th:only-of-type {\n",
              "        vertical-align: middle;\n",
              "    }\n",
              "\n",
              "    .dataframe tbody tr th {\n",
              "        vertical-align: top;\n",
              "    }\n",
              "\n",
              "    .dataframe thead th {\n",
              "        text-align: right;\n",
              "    }\n",
              "</style>\n",
              "<table border=\"1\" class=\"dataframe\">\n",
              "  <thead>\n",
              "    <tr style=\"text-align: right;\">\n",
              "      <th></th>\n",
              "      <th>id</th>\n",
              "      <th>age</th>\n",
              "      <th>gender</th>\n",
              "      <th>height</th>\n",
              "      <th>weight</th>\n",
              "      <th>ap_hi</th>\n",
              "      <th>ap_lo</th>\n",
              "      <th>cholesterol</th>\n",
              "      <th>gluc</th>\n",
              "      <th>smoke</th>\n",
              "      <th>alco</th>\n",
              "      <th>active</th>\n",
              "      <th>cardio</th>\n",
              "    </tr>\n",
              "  </thead>\n",
              "  <tbody>\n",
              "    <tr>\n",
              "      <th>count</th>\n",
              "      <td>70000.000000</td>\n",
              "      <td>70000.000000</td>\n",
              "      <td>70000.000000</td>\n",
              "      <td>70000.000000</td>\n",
              "      <td>70000.000000</td>\n",
              "      <td>70000.000000</td>\n",
              "      <td>70000.000000</td>\n",
              "      <td>70000.000000</td>\n",
              "      <td>70000.000000</td>\n",
              "      <td>70000.000000</td>\n",
              "      <td>70000.000000</td>\n",
              "      <td>70000.000000</td>\n",
              "      <td>70000.000000</td>\n",
              "    </tr>\n",
              "    <tr>\n",
              "      <th>mean</th>\n",
              "      <td>49972.419900</td>\n",
              "      <td>19468.865814</td>\n",
              "      <td>1.349571</td>\n",
              "      <td>164.359229</td>\n",
              "      <td>74.205690</td>\n",
              "      <td>128.817286</td>\n",
              "      <td>96.630414</td>\n",
              "      <td>1.366871</td>\n",
              "      <td>1.226457</td>\n",
              "      <td>0.088129</td>\n",
              "      <td>0.053771</td>\n",
              "      <td>0.803729</td>\n",
              "      <td>0.499700</td>\n",
              "    </tr>\n",
              "    <tr>\n",
              "      <th>std</th>\n",
              "      <td>28851.302323</td>\n",
              "      <td>2467.251667</td>\n",
              "      <td>0.476838</td>\n",
              "      <td>8.210126</td>\n",
              "      <td>14.395757</td>\n",
              "      <td>154.011419</td>\n",
              "      <td>188.472530</td>\n",
              "      <td>0.680250</td>\n",
              "      <td>0.572270</td>\n",
              "      <td>0.283484</td>\n",
              "      <td>0.225568</td>\n",
              "      <td>0.397179</td>\n",
              "      <td>0.500003</td>\n",
              "    </tr>\n",
              "    <tr>\n",
              "      <th>min</th>\n",
              "      <td>0.000000</td>\n",
              "      <td>10798.000000</td>\n",
              "      <td>1.000000</td>\n",
              "      <td>55.000000</td>\n",
              "      <td>10.000000</td>\n",
              "      <td>-150.000000</td>\n",
              "      <td>-70.000000</td>\n",
              "      <td>1.000000</td>\n",
              "      <td>1.000000</td>\n",
              "      <td>0.000000</td>\n",
              "      <td>0.000000</td>\n",
              "      <td>0.000000</td>\n",
              "      <td>0.000000</td>\n",
              "    </tr>\n",
              "    <tr>\n",
              "      <th>25%</th>\n",
              "      <td>25006.750000</td>\n",
              "      <td>17664.000000</td>\n",
              "      <td>1.000000</td>\n",
              "      <td>159.000000</td>\n",
              "      <td>65.000000</td>\n",
              "      <td>120.000000</td>\n",
              "      <td>80.000000</td>\n",
              "      <td>1.000000</td>\n",
              "      <td>1.000000</td>\n",
              "      <td>0.000000</td>\n",
              "      <td>0.000000</td>\n",
              "      <td>1.000000</td>\n",
              "      <td>0.000000</td>\n",
              "    </tr>\n",
              "    <tr>\n",
              "      <th>50%</th>\n",
              "      <td>50001.500000</td>\n",
              "      <td>19703.000000</td>\n",
              "      <td>1.000000</td>\n",
              "      <td>165.000000</td>\n",
              "      <td>72.000000</td>\n",
              "      <td>120.000000</td>\n",
              "      <td>80.000000</td>\n",
              "      <td>1.000000</td>\n",
              "      <td>1.000000</td>\n",
              "      <td>0.000000</td>\n",
              "      <td>0.000000</td>\n",
              "      <td>1.000000</td>\n",
              "      <td>0.000000</td>\n",
              "    </tr>\n",
              "    <tr>\n",
              "      <th>75%</th>\n",
              "      <td>74889.250000</td>\n",
              "      <td>21327.000000</td>\n",
              "      <td>2.000000</td>\n",
              "      <td>170.000000</td>\n",
              "      <td>82.000000</td>\n",
              "      <td>140.000000</td>\n",
              "      <td>90.000000</td>\n",
              "      <td>2.000000</td>\n",
              "      <td>1.000000</td>\n",
              "      <td>0.000000</td>\n",
              "      <td>0.000000</td>\n",
              "      <td>1.000000</td>\n",
              "      <td>1.000000</td>\n",
              "    </tr>\n",
              "    <tr>\n",
              "      <th>max</th>\n",
              "      <td>99999.000000</td>\n",
              "      <td>23713.000000</td>\n",
              "      <td>2.000000</td>\n",
              "      <td>250.000000</td>\n",
              "      <td>200.000000</td>\n",
              "      <td>16020.000000</td>\n",
              "      <td>11000.000000</td>\n",
              "      <td>3.000000</td>\n",
              "      <td>3.000000</td>\n",
              "      <td>1.000000</td>\n",
              "      <td>1.000000</td>\n",
              "      <td>1.000000</td>\n",
              "      <td>1.000000</td>\n",
              "    </tr>\n",
              "  </tbody>\n",
              "</table>\n",
              "</div>\n",
              "    <div class=\"colab-df-buttons\">\n",
              "\n",
              "  <div class=\"colab-df-container\">\n",
              "    <button class=\"colab-df-convert\" onclick=\"convertToInteractive('df-007280be-cb34-4d50-ba33-8bbc0d680062')\"\n",
              "            title=\"Convert this dataframe to an interactive table.\"\n",
              "            style=\"display:none;\">\n",
              "\n",
              "  <svg xmlns=\"http://www.w3.org/2000/svg\" height=\"24px\" viewBox=\"0 -960 960 960\">\n",
              "    <path d=\"M120-120v-720h720v720H120Zm60-500h600v-160H180v160Zm220 220h160v-160H400v160Zm0 220h160v-160H400v160ZM180-400h160v-160H180v160Zm440 0h160v-160H620v160ZM180-180h160v-160H180v160Zm440 0h160v-160H620v160Z\"/>\n",
              "  </svg>\n",
              "    </button>\n",
              "\n",
              "  <style>\n",
              "    .colab-df-container {\n",
              "      display:flex;\n",
              "      gap: 12px;\n",
              "    }\n",
              "\n",
              "    .colab-df-convert {\n",
              "      background-color: #E8F0FE;\n",
              "      border: none;\n",
              "      border-radius: 50%;\n",
              "      cursor: pointer;\n",
              "      display: none;\n",
              "      fill: #1967D2;\n",
              "      height: 32px;\n",
              "      padding: 0 0 0 0;\n",
              "      width: 32px;\n",
              "    }\n",
              "\n",
              "    .colab-df-convert:hover {\n",
              "      background-color: #E2EBFA;\n",
              "      box-shadow: 0px 1px 2px rgba(60, 64, 67, 0.3), 0px 1px 3px 1px rgba(60, 64, 67, 0.15);\n",
              "      fill: #174EA6;\n",
              "    }\n",
              "\n",
              "    .colab-df-buttons div {\n",
              "      margin-bottom: 4px;\n",
              "    }\n",
              "\n",
              "    [theme=dark] .colab-df-convert {\n",
              "      background-color: #3B4455;\n",
              "      fill: #D2E3FC;\n",
              "    }\n",
              "\n",
              "    [theme=dark] .colab-df-convert:hover {\n",
              "      background-color: #434B5C;\n",
              "      box-shadow: 0px 1px 3px 1px rgba(0, 0, 0, 0.15);\n",
              "      filter: drop-shadow(0px 1px 2px rgba(0, 0, 0, 0.3));\n",
              "      fill: #FFFFFF;\n",
              "    }\n",
              "  </style>\n",
              "\n",
              "    <script>\n",
              "      const buttonEl =\n",
              "        document.querySelector('#df-007280be-cb34-4d50-ba33-8bbc0d680062 button.colab-df-convert');\n",
              "      buttonEl.style.display =\n",
              "        google.colab.kernel.accessAllowed ? 'block' : 'none';\n",
              "\n",
              "      async function convertToInteractive(key) {\n",
              "        const element = document.querySelector('#df-007280be-cb34-4d50-ba33-8bbc0d680062');\n",
              "        const dataTable =\n",
              "          await google.colab.kernel.invokeFunction('convertToInteractive',\n",
              "                                                    [key], {});\n",
              "        if (!dataTable) return;\n",
              "\n",
              "        const docLinkHtml = 'Like what you see? Visit the ' +\n",
              "          '<a target=\"_blank\" href=https://colab.research.google.com/notebooks/data_table.ipynb>data table notebook</a>'\n",
              "          + ' to learn more about interactive tables.';\n",
              "        element.innerHTML = '';\n",
              "        dataTable['output_type'] = 'display_data';\n",
              "        await google.colab.output.renderOutput(dataTable, element);\n",
              "        const docLink = document.createElement('div');\n",
              "        docLink.innerHTML = docLinkHtml;\n",
              "        element.appendChild(docLink);\n",
              "      }\n",
              "    </script>\n",
              "  </div>\n",
              "\n",
              "\n",
              "<div id=\"df-97f22f60-7c75-4312-b849-71717fa929fc\">\n",
              "  <button class=\"colab-df-quickchart\" onclick=\"quickchart('df-97f22f60-7c75-4312-b849-71717fa929fc')\"\n",
              "            title=\"Suggest charts\"\n",
              "            style=\"display:none;\">\n",
              "\n",
              "<svg xmlns=\"http://www.w3.org/2000/svg\" height=\"24px\"viewBox=\"0 0 24 24\"\n",
              "     width=\"24px\">\n",
              "    <g>\n",
              "        <path d=\"M19 3H5c-1.1 0-2 .9-2 2v14c0 1.1.9 2 2 2h14c1.1 0 2-.9 2-2V5c0-1.1-.9-2-2-2zM9 17H7v-7h2v7zm4 0h-2V7h2v10zm4 0h-2v-4h2v4z\"/>\n",
              "    </g>\n",
              "</svg>\n",
              "  </button>\n",
              "\n",
              "<style>\n",
              "  .colab-df-quickchart {\n",
              "      --bg-color: #E8F0FE;\n",
              "      --fill-color: #1967D2;\n",
              "      --hover-bg-color: #E2EBFA;\n",
              "      --hover-fill-color: #174EA6;\n",
              "      --disabled-fill-color: #AAA;\n",
              "      --disabled-bg-color: #DDD;\n",
              "  }\n",
              "\n",
              "  [theme=dark] .colab-df-quickchart {\n",
              "      --bg-color: #3B4455;\n",
              "      --fill-color: #D2E3FC;\n",
              "      --hover-bg-color: #434B5C;\n",
              "      --hover-fill-color: #FFFFFF;\n",
              "      --disabled-bg-color: #3B4455;\n",
              "      --disabled-fill-color: #666;\n",
              "  }\n",
              "\n",
              "  .colab-df-quickchart {\n",
              "    background-color: var(--bg-color);\n",
              "    border: none;\n",
              "    border-radius: 50%;\n",
              "    cursor: pointer;\n",
              "    display: none;\n",
              "    fill: var(--fill-color);\n",
              "    height: 32px;\n",
              "    padding: 0;\n",
              "    width: 32px;\n",
              "  }\n",
              "\n",
              "  .colab-df-quickchart:hover {\n",
              "    background-color: var(--hover-bg-color);\n",
              "    box-shadow: 0 1px 2px rgba(60, 64, 67, 0.3), 0 1px 3px 1px rgba(60, 64, 67, 0.15);\n",
              "    fill: var(--button-hover-fill-color);\n",
              "  }\n",
              "\n",
              "  .colab-df-quickchart-complete:disabled,\n",
              "  .colab-df-quickchart-complete:disabled:hover {\n",
              "    background-color: var(--disabled-bg-color);\n",
              "    fill: var(--disabled-fill-color);\n",
              "    box-shadow: none;\n",
              "  }\n",
              "\n",
              "  .colab-df-spinner {\n",
              "    border: 2px solid var(--fill-color);\n",
              "    border-color: transparent;\n",
              "    border-bottom-color: var(--fill-color);\n",
              "    animation:\n",
              "      spin 1s steps(1) infinite;\n",
              "  }\n",
              "\n",
              "  @keyframes spin {\n",
              "    0% {\n",
              "      border-color: transparent;\n",
              "      border-bottom-color: var(--fill-color);\n",
              "      border-left-color: var(--fill-color);\n",
              "    }\n",
              "    20% {\n",
              "      border-color: transparent;\n",
              "      border-left-color: var(--fill-color);\n",
              "      border-top-color: var(--fill-color);\n",
              "    }\n",
              "    30% {\n",
              "      border-color: transparent;\n",
              "      border-left-color: var(--fill-color);\n",
              "      border-top-color: var(--fill-color);\n",
              "      border-right-color: var(--fill-color);\n",
              "    }\n",
              "    40% {\n",
              "      border-color: transparent;\n",
              "      border-right-color: var(--fill-color);\n",
              "      border-top-color: var(--fill-color);\n",
              "    }\n",
              "    60% {\n",
              "      border-color: transparent;\n",
              "      border-right-color: var(--fill-color);\n",
              "    }\n",
              "    80% {\n",
              "      border-color: transparent;\n",
              "      border-right-color: var(--fill-color);\n",
              "      border-bottom-color: var(--fill-color);\n",
              "    }\n",
              "    90% {\n",
              "      border-color: transparent;\n",
              "      border-bottom-color: var(--fill-color);\n",
              "    }\n",
              "  }\n",
              "</style>\n",
              "\n",
              "  <script>\n",
              "    async function quickchart(key) {\n",
              "      const quickchartButtonEl =\n",
              "        document.querySelector('#' + key + ' button');\n",
              "      quickchartButtonEl.disabled = true;  // To prevent multiple clicks.\n",
              "      quickchartButtonEl.classList.add('colab-df-spinner');\n",
              "      try {\n",
              "        const charts = await google.colab.kernel.invokeFunction(\n",
              "            'suggestCharts', [key], {});\n",
              "      } catch (error) {\n",
              "        console.error('Error during call to suggestCharts:', error);\n",
              "      }\n",
              "      quickchartButtonEl.classList.remove('colab-df-spinner');\n",
              "      quickchartButtonEl.classList.add('colab-df-quickchart-complete');\n",
              "    }\n",
              "    (() => {\n",
              "      let quickchartButtonEl =\n",
              "        document.querySelector('#df-97f22f60-7c75-4312-b849-71717fa929fc button');\n",
              "      quickchartButtonEl.style.display =\n",
              "        google.colab.kernel.accessAllowed ? 'block' : 'none';\n",
              "    })();\n",
              "  </script>\n",
              "</div>\n",
              "\n",
              "    </div>\n",
              "  </div>\n"
            ],
            "application/vnd.google.colaboratory.intrinsic+json": {
              "type": "dataframe",
              "summary": "{\n  \"name\": \"df\",\n  \"rows\": 8,\n  \"fields\": [\n    {\n      \"column\": \"id\",\n      \"properties\": {\n        \"dtype\": \"number\",\n        \"std\": 31827.887052457605,\n        \"min\": 0.0,\n        \"max\": 99999.0,\n        \"num_unique_values\": 8,\n        \"samples\": [\n          49972.4199,\n          50001.5,\n          70000.0\n        ],\n        \"semantic_type\": \"\",\n        \"description\": \"\"\n      }\n    },\n    {\n      \"column\": \"age\",\n      \"properties\": {\n        \"dtype\": \"number\",\n        \"std\": 20122.620892544895,\n        \"min\": 2467.251667241401,\n        \"max\": 70000.0,\n        \"num_unique_values\": 8,\n        \"samples\": [\n          19468.865814285713,\n          19703.0,\n          70000.0\n        ],\n        \"semantic_type\": \"\",\n        \"description\": \"\"\n      }\n    },\n    {\n      \"column\": \"gender\",\n      \"properties\": {\n        \"dtype\": \"number\",\n        \"std\": 24748.29154607086,\n        \"min\": 0.4768380155828639,\n        \"max\": 70000.0,\n        \"num_unique_values\": 5,\n        \"samples\": [\n          1.3495714285714286,\n          2.0,\n          0.4768380155828639\n        ],\n        \"semantic_type\": \"\",\n        \"description\": \"\"\n      }\n    },\n    {\n      \"column\": \"height\",\n      \"properties\": {\n        \"dtype\": \"number\",\n        \"std\": 24699.778932713376,\n        \"min\": 8.210126364538038,\n        \"max\": 70000.0,\n        \"num_unique_values\": 8,\n        \"samples\": [\n          164.35922857142856,\n          165.0,\n          70000.0\n        ],\n        \"semantic_type\": \"\",\n        \"description\": \"\"\n      }\n    },\n    {\n      \"column\": \"weight\",\n      \"properties\": {\n        \"dtype\": \"number\",\n        \"std\": 24722.662918574366,\n        \"min\": 10.0,\n        \"max\": 70000.0,\n        \"num_unique_values\": 8,\n        \"samples\": [\n          74.20569,\n          72.0,\n          70000.0\n        ],\n        \"semantic_type\": \"\",\n        \"description\": \"\"\n      }\n    },\n    {\n      \"column\": \"ap_hi\",\n      \"properties\": {\n        \"dtype\": \"number\",\n        \"std\": 24555.36109035961,\n        \"min\": -150.0,\n        \"max\": 70000.0,\n        \"num_unique_values\": 7,\n        \"samples\": [\n          70000.0,\n          128.8172857142857,\n          140.0\n        ],\n        \"semantic_type\": \"\",\n        \"description\": \"\"\n      }\n    },\n    {\n      \"column\": \"ap_lo\",\n      \"properties\": {\n        \"dtype\": \"number\",\n        \"std\": 24470.099201766985,\n        \"min\": -70.0,\n        \"max\": 70000.0,\n        \"num_unique_values\": 7,\n        \"samples\": [\n          70000.0,\n          96.63041428571428,\n          90.0\n        ],\n        \"semantic_type\": \"\",\n        \"description\": \"\"\n      }\n    },\n    {\n      \"column\": \"cholesterol\",\n      \"properties\": {\n        \"dtype\": \"number\",\n        \"std\": 24748.229896533994,\n        \"min\": 0.6802503486993808,\n        \"max\": 70000.0,\n        \"num_unique_values\": 6,\n        \"samples\": [\n          70000.0,\n          1.3668714285714285,\n          3.0\n        ],\n        \"semantic_type\": \"\",\n        \"description\": \"\"\n      }\n    },\n    {\n      \"column\": \"gluc\",\n      \"properties\": {\n        \"dtype\": \"number\",\n        \"std\": 24748.29294957143,\n        \"min\": 0.572270276613845,\n        \"max\": 70000.0,\n        \"num_unique_values\": 5,\n        \"samples\": [\n          1.226457142857143,\n          3.0,\n          0.572270276613845\n        ],\n        \"semantic_type\": \"\",\n        \"description\": \"\"\n      }\n    },\n    {\n      \"column\": \"smoke\",\n      \"properties\": {\n        \"dtype\": \"number\",\n        \"std\": 24748.66806700679,\n        \"min\": 0.0,\n        \"max\": 70000.0,\n        \"num_unique_values\": 5,\n        \"samples\": [\n          0.08812857142857143,\n          1.0,\n          0.28348381676993517\n        ],\n        \"semantic_type\": \"\",\n        \"description\": \"\"\n      }\n    },\n    {\n      \"column\": \"alco\",\n      \"properties\": {\n        \"dtype\": \"number\",\n        \"std\": 24748.6727275117,\n        \"min\": 0.0,\n        \"max\": 70000.0,\n        \"num_unique_values\": 5,\n        \"samples\": [\n          0.053771428571428574,\n          1.0,\n          0.22556770360410494\n        ],\n        \"semantic_type\": \"\",\n        \"description\": \"\"\n      }\n    },\n    {\n      \"column\": \"active\",\n      \"properties\": {\n        \"dtype\": \"number\",\n        \"std\": 24748.474658736734,\n        \"min\": 0.0,\n        \"max\": 70000.0,\n        \"num_unique_values\": 5,\n        \"samples\": [\n          0.8037285714285715,\n          1.0,\n          0.39717906350492826\n        ],\n        \"semantic_type\": \"\",\n        \"description\": \"\"\n      }\n    },\n    {\n      \"column\": \"cardio\",\n      \"properties\": {\n        \"dtype\": \"number\",\n        \"std\": 24748.585837128438,\n        \"min\": 0.0,\n        \"max\": 70000.0,\n        \"num_unique_values\": 5,\n        \"samples\": [\n          0.4997,\n          1.0,\n          0.5000034814661862\n        ],\n        \"semantic_type\": \"\",\n        \"description\": \"\"\n      }\n    }\n  ]\n}"
            }
          },
          "metadata": {},
          "execution_count": 2
        }
      ]
    },
    {
      "cell_type": "code",
      "source": [
        "import matplotlib.pyplot as plt\n",
        "import seaborn as sns\n",
        "#Histogram of Age and Boxplot of Weight by Gender\n",
        "plt.figure(figsize=(10, 6))\n",
        "\n",
        "plt.subplot(1, 2, 1)\n",
        "sns.histplot(df['age'], bins=20, kde=True)\n",
        "plt.xlabel('Age')\n",
        "plt.title('Distribution of Age')\n",
        "\n",
        "plt.subplot(1, 2, 2)\n",
        "sns.boxplot(x='gender', y='weight', data=df)\n",
        "plt.xlabel('Gender')\n",
        "plt.ylabel('Weight')\n",
        "plt.title('Weight Distribution by Gender')\n",
        "\n",
        "plt.tight_layout()\n",
        "plt.show()"
      ],
      "metadata": {
        "id": "xMNMn1yakPX5",
        "outputId": "d243dd64-a402-4aa6-d99c-edf410deba1d",
        "colab": {
          "base_uri": "https://localhost:8080/",
          "height": 607
        }
      },
      "execution_count": null,
      "outputs": [
        {
          "output_type": "display_data",
          "data": {
            "text/plain": [
              "<Figure size 1000x600 with 2 Axes>"
            ],
            "image/png": "[encoded data removed]"
          },
          "metadata": {}
        }
      ]
    },
    {
      "cell_type": "code",
      "source": [
        "from sklearn.model_selection import train_test_split"
      ],
      "metadata": {
        "id": "O1R4xC3SVZQa"
      },
      "execution_count": null,
      "outputs": []
    },
    {
      "cell_type": "code",
      "source": [
        "# Define privileged and unprivileged groups based on 'gender'\n",
        "privileged_groups = [{'gender': 1}]  # 1 represents the privileged group\n",
        "unprivileged_groups = [{'gender': 2}]  # 2 represents the unprivileged group"
      ],
      "metadata": {
        "id": "f1Gt7D3QWI-Z"
      },
      "execution_count": null,
      "outputs": []
    },
    {
      "cell_type": "code",
      "source": [
        "# df_train will contain 70% of the data, and df_test will contain 30%\n",
        "df_train, df_test = train_test_split(df, test_size=0.3, random_state=42)"
      ],
      "metadata": {
        "id": "oNZAmSJkWZg4"
      },
      "execution_count": null,
      "outputs": []
    },
    {
      "cell_type": "code",
      "source": [
        "from IPython.display import display, Markdown\n",
        "\n",
        "# Assuming df_train and df_test are already defined and used in your project\n",
        "\n",
        "# Print out the shape of the training dataset\n",
        "display(Markdown(\"#### Training Dataset shape\"))\n",
        "print(df_train.shape)\n",
        "\n",
        "# Assuming 'gender' is your protected attribute\n",
        "protected_attribute = 'gender'\n",
        "\n",
        "# Print out the protected attribute names\n",
        "display(Markdown(\"#### Protected attribute names\"))\n",
        "print(protected_attribute)\n",
        "\n",
        "#display group\n",
        "\n",
        "display(Markdown(\"#### Privileged and unprivileged protected attribute values\"))\n",
        "print(\"Privileged:\", privileged_groups)\n",
        "print(\"Unprivileged:\", unprivileged_groups)\n",
        "\n",
        "# Print out the dataset feature names excluding the protected attribute and labels\n",
        "display(Markdown(\"#### Dataset feature names\"))\n",
        "features_list = df_train.columns.tolist()\n",
        "features_list.remove(protected_attribute)  # Remove protected attribute from feature list\n",
        "features_list.remove('cardio')  # Remove labels from feature list\n",
        "print(features_list)\n"
      ],
      "metadata": {
        "id": "Dt62MBRwW1Sh",
        "outputId": "0f79872c-4f82-402d-be85-6d977be80c88",
        "colab": {
          "base_uri": "https://localhost:8080/",
          "height": 264
        }
      },
      "execution_count": null,
      "outputs": [
        {
          "output_type": "display_data",
          "data": {
            "text/plain": [
              "<IPython.core.display.Markdown object>"
            ],
            "text/markdown": "#### Training Dataset shape"
          },
          "metadata": {}
        },
        {
          "output_type": "stream",
          "name": "stdout",
          "text": [
            "(49000, 13)\n"
          ]
        },
        {
          "output_type": "display_data",
          "data": {
            "text/plain": [
              "<IPython.core.display.Markdown object>"
            ],
            "text/markdown": "#### Protected attribute names"
          },
          "metadata": {}
        },
        {
          "output_type": "stream",
          "name": "stdout",
          "text": [
            "gender\n"
          ]
        },
        {
          "output_type": "display_data",
          "data": {
            "text/plain": [
              "<IPython.core.display.Markdown object>"
            ],
            "text/markdown": "#### Privileged and unprivileged protected attribute values"
          },
          "metadata": {}
        },
        {
          "output_type": "stream",
          "name": "stdout",
          "text": [
            "Privileged: [{'gender': 1}]\n",
            "Unprivileged: [{'gender': 2}]\n"
          ]
        },
        {
          "output_type": "display_data",
          "data": {
            "text/plain": [
              "<IPython.core.display.Markdown object>"
            ],
            "text/markdown": "#### Dataset feature names"
          },
          "metadata": {}
        },
        {
          "output_type": "stream",
          "name": "stdout",
          "text": [
            "['id', 'age', 'height', 'weight', 'ap_hi', 'ap_lo', 'cholesterol', 'gluc', 'smoke', 'alco', 'active']\n"
          ]
        }
      ]
    },
    {
      "cell_type": "code",
      "source": [
        "#cardio is the label column (1 for positive outcome, 0 for negative outcome)\n",
        "favorable_label = 1  # Define the favorable label\n",
        "unfavorable_label = 0  # Define the unfavorable label"
      ],
      "metadata": {
        "id": "D2_HeUBFap0j"
      },
      "execution_count": null,
      "outputs": []
    },
    {
      "cell_type": "code",
      "source": [
        "# Convert the DataFrame into a BinaryLabelDataset\n",
        "df_train = BinaryLabelDataset(df=df_train, label_names=['cardio'],\n",
        "                                        favorable_label=favorable_label,\n",
        "                                        unfavorable_label=unfavorable_label,\n",
        "                                        protected_attribute_names=['gender'],\n",
        "                                        privileged_protected_attributes=[[1]],  # Assuming 1 is the privileged group for gender\n",
        "                                        unprivileged_protected_attributes=[[2]])  # Assuming 2 is the unprivileged group for gender"
      ],
      "metadata": {
        "id": "kQq6ZUwZbIMq"
      },
      "execution_count": null,
      "outputs": []
    },
    {
      "cell_type": "markdown",
      "source": [
        "## Metric for the original training dataset"
      ],
      "metadata": {
        "id": "jdgVR8yRlPlI"
      }
    },
    {
      "cell_type": "code",
      "source": [
        "# Metric for the original training dataset\n",
        "metric_train = BinaryLabelDatasetMetric(df_train,\n",
        "                                             unprivileged_groups=unprivileged_groups,\n",
        "                                             privileged_groups=privileged_groups)\n",
        "display(Markdown(\"#### Original training dataset\"))\n",
        "print(\"Train set: Difference in mean outcomes between unprivileged and privileged groups = %f\" % metric_train.mean_difference())"
      ],
      "metadata": {
        "id": "kahJ25tccr4J",
        "outputId": "fe8a94d8-0b05-4844-ebc4-753d7f8fadd7",
        "colab": {
          "base_uri": "https://localhost:8080/",
          "height": 74
        }
      },
      "execution_count": null,
      "outputs": [
        {
          "output_type": "display_data",
          "data": {
            "text/plain": [
              "<IPython.core.display.Markdown object>"
            ],
            "text/markdown": "#### Original training dataset"
          },
          "metadata": {}
        },
        {
          "output_type": "stream",
          "name": "stdout",
          "text": [
            "Train set: Difference in mean outcomes between unprivileged and privileged groups = 0.006819\n"
          ]
        }
      ]
    },
    {
      "cell_type": "code",
      "source": [
        "# Convert the DataFrame into a BinaryLabelDataset for the test dataset\n",
        "df_test = BinaryLabelDataset(df=df_test, label_names=['cardio'],\n",
        "                                       favorable_label=favorable_label,\n",
        "                                       unfavorable_label=unfavorable_label,\n",
        "                                       protected_attribute_names=['gender'],\n",
        "                                       privileged_protected_attributes=[[1]],  # Assuming 1 is the privileged group for gender\n",
        "                                       unprivileged_protected_attributes=[[2]])  # Assuming 2 is the unprivileged group for gender\n",
        "\n",
        "\n",
        "# Metric for the original test dataset\n",
        "metric_test = BinaryLabelDatasetMetric(df_test,\n",
        "                                       unprivileged_groups=unprivileged_groups,\n",
        "                                       privileged_groups=privileged_groups)\n",
        "display(Markdown(\"#### Original test dataset\"))\n",
        "print(\"Test set: Difference in mean outcomes between unprivileged and privileged groups = %f\" % metric_test.mean_difference())"
      ],
      "metadata": {
        "id": "ct7R51E0cr87",
        "outputId": "8dc62f97-b9bc-4210-9f5a-1dfec23ccbc5",
        "colab": {
          "base_uri": "https://localhost:8080/",
          "height": 74
        }
      },
      "execution_count": null,
      "outputs": [
        {
          "output_type": "display_data",
          "data": {
            "text/plain": [
              "<IPython.core.display.Markdown object>"
            ],
            "text/markdown": "#### Original test dataset"
          },
          "metadata": {}
        },
        {
          "output_type": "stream",
          "name": "stdout",
          "text": [
            "Test set: Difference in mean outcomes between unprivileged and privileged groups = 0.012435\n"
          ]
        }
      ]
    },
    {
      "cell_type": "code",
      "source": [
        "# Scale the features of the training dataset\n",
        "min_max_scaler = MaxAbsScaler()\n",
        "df_train.features = min_max_scaler.fit_transform(df_train.features)\n",
        "\n",
        "# Scale the features of the test dataset using the same scaler as the training dataset\n",
        "df_test.features = min_max_scaler.transform(df_test.features)\n",
        "\n",
        "# Compute fairness metrics for the scaled training dataset\n",
        "metric_scaled_train = BinaryLabelDatasetMetric(df_train,\n",
        "                                               unprivileged_groups=unprivileged_groups,\n",
        "                                               privileged_groups=privileged_groups)\n",
        "\n",
        "# Display fairness metrics for the scaled training dataset\n",
        "display(Markdown(\"#### Scaled dataset - Verify that the scaling does not affect the group label statistics\"))\n",
        "print(\"Train set: Difference in mean outcomes between unprivileged and privileged groups = %f\" % metric_scaled_train.mean_difference())\n",
        "\n",
        "# Compute fairness metrics for the scaled test dataset\n",
        "metric_scaled_test = BinaryLabelDatasetMetric(df_test,\n",
        "                                              unprivileged_groups=unprivileged_groups,\n",
        "                                              privileged_groups=privileged_groups)\n",
        "\n",
        "# Display fairness metrics for the scaled test dataset\n",
        "print(\"Test set: Difference in mean outcomes between unprivileged and privileged groups = %f\" % metric_scaled_test.mean_difference())\n"
      ],
      "metadata": {
        "id": "fK-fdAFOcr-r",
        "outputId": "b389e5eb-6ac0-4230-a959-7863254492f7",
        "colab": {
          "base_uri": "https://localhost:8080/",
          "height": 92
        }
      },
      "execution_count": null,
      "outputs": [
        {
          "output_type": "display_data",
          "data": {
            "text/plain": [
              "<IPython.core.display.Markdown object>"
            ],
            "text/markdown": "#### Scaled dataset - Verify that the scaling does not affect the group label statistics"
          },
          "metadata": {}
        },
        {
          "output_type": "stream",
          "name": "stdout",
          "text": [
            "Train set: Difference in mean outcomes between unprivileged and privileged groups = 0.006819\n",
            "Test set: Difference in mean outcomes between unprivileged and privileged groups = 0.012435\n"
          ]
        }
      ]
    },
    {
      "cell_type": "markdown",
      "source": [
        "### Learn plan classifier without debiasing"
      ],
      "metadata": {
        "id": "HIP_GDnvlZ5o"
      }
    },
    {
      "cell_type": "code",
      "source": [
        "# Load post-processing algorithm that equalizes the odds\n",
        "# Learn parameters with debias set to False\n",
        "sess = tf.Session()\n",
        "plain_model = AdversarialDebiasing(privileged_groups = privileged_groups,\n",
        "                          unprivileged_groups = unprivileged_groups,\n",
        "                          scope_name='plain_classifier',\n",
        "                          debias=False,\n",
        "                          sess=sess)"
      ],
      "metadata": {
        "id": "0CbHXMUOgJu4"
      },
      "execution_count": null,
      "outputs": []
    },
    {
      "cell_type": "code",
      "source": [
        "plain_model.fit(df_train)"
      ],
      "metadata": {
        "id": "oZF6EtfXgUNf",
        "outputId": "8fdcfa2a-acff-4cc3-cea6-e5a63f446db7",
        "colab": {
          "base_uri": "https://localhost:8080/"
        }
      },
      "execution_count": null,
      "outputs": [
        {
          "output_type": "stream",
          "name": "stderr",
          "text": [
            "WARNING:tensorflow:From /usr/local/lib/python3.10/dist-packages/tensorflow/python/util/dispatch.py:1260: calling dropout (from tensorflow.python.ops.nn_ops) with keep_prob is deprecated and will be removed in a future version.\n",
            "Instructions for updating:\n",
            "Please use `rate` instead of `keep_prob`. Rate should be set to `rate = 1 - keep_prob`.\n"
          ]
        },
        {
          "output_type": "stream",
          "name": "stdout",
          "text": [
            "epoch 0; iter: 0; batch classifier loss: 0.705774\n",
            "epoch 0; iter: 200; batch classifier loss: 0.697726\n",
            "epoch 1; iter: 0; batch classifier loss: 0.652628\n",
            "epoch 1; iter: 200; batch classifier loss: 0.656586\n",
            "epoch 2; iter: 0; batch classifier loss: 0.659940\n",
            "epoch 2; iter: 200; batch classifier loss: 0.670499\n",
            "epoch 3; iter: 0; batch classifier loss: 0.645057\n",
            "epoch 3; iter: 200; batch classifier loss: 0.640547\n",
            "epoch 4; iter: 0; batch classifier loss: 0.600395\n",
            "epoch 4; iter: 200; batch classifier loss: 0.607175\n",
            "epoch 5; iter: 0; batch classifier loss: 0.638862\n",
            "epoch 5; iter: 200; batch classifier loss: 0.622795\n",
            "epoch 6; iter: 0; batch classifier loss: 0.668516\n",
            "epoch 6; iter: 200; batch classifier loss: 0.632645\n",
            "epoch 7; iter: 0; batch classifier loss: 0.634552\n",
            "epoch 7; iter: 200; batch classifier loss: 0.615740\n",
            "epoch 8; iter: 0; batch classifier loss: 0.581002\n",
            "epoch 8; iter: 200; batch classifier loss: 0.628031\n",
            "epoch 9; iter: 0; batch classifier loss: 0.628140\n",
            "epoch 9; iter: 200; batch classifier loss: 0.615940\n",
            "epoch 10; iter: 0; batch classifier loss: 0.674664\n",
            "epoch 10; iter: 200; batch classifier loss: 0.604880\n",
            "epoch 11; iter: 0; batch classifier loss: 0.574802\n",
            "epoch 11; iter: 200; batch classifier loss: 0.565409\n",
            "epoch 12; iter: 0; batch classifier loss: 0.680994\n",
            "epoch 12; iter: 200; batch classifier loss: 0.659518\n",
            "epoch 13; iter: 0; batch classifier loss: 0.669259\n",
            "epoch 13; iter: 200; batch classifier loss: 0.629496\n",
            "epoch 14; iter: 0; batch classifier loss: 0.622528\n",
            "epoch 14; iter: 200; batch classifier loss: 0.576592\n",
            "epoch 15; iter: 0; batch classifier loss: 0.586746\n",
            "epoch 15; iter: 200; batch classifier loss: 0.618017\n",
            "epoch 16; iter: 0; batch classifier loss: 0.566067\n",
            "epoch 16; iter: 200; batch classifier loss: 0.619855\n",
            "epoch 17; iter: 0; batch classifier loss: 0.616478\n",
            "epoch 17; iter: 200; batch classifier loss: 0.628013\n",
            "epoch 18; iter: 0; batch classifier loss: 0.640427\n",
            "epoch 18; iter: 200; batch classifier loss: 0.607913\n",
            "epoch 19; iter: 0; batch classifier loss: 0.624639\n",
            "epoch 19; iter: 200; batch classifier loss: 0.676927\n",
            "epoch 20; iter: 0; batch classifier loss: 0.583217\n",
            "epoch 20; iter: 200; batch classifier loss: 0.613873\n",
            "epoch 21; iter: 0; batch classifier loss: 0.598897\n",
            "epoch 21; iter: 200; batch classifier loss: 0.586657\n",
            "epoch 22; iter: 0; batch classifier loss: 0.601757\n",
            "epoch 22; iter: 200; batch classifier loss: 0.603627\n",
            "epoch 23; iter: 0; batch classifier loss: 0.650383\n",
            "epoch 23; iter: 200; batch classifier loss: 0.544660\n",
            "epoch 24; iter: 0; batch classifier loss: 0.588998\n",
            "epoch 24; iter: 200; batch classifier loss: 0.620255\n",
            "epoch 25; iter: 0; batch classifier loss: 0.593412\n",
            "epoch 25; iter: 200; batch classifier loss: 0.548702\n",
            "epoch 26; iter: 0; batch classifier loss: 0.696625\n",
            "epoch 26; iter: 200; batch classifier loss: 0.579572\n",
            "epoch 27; iter: 0; batch classifier loss: 0.600451\n",
            "epoch 27; iter: 200; batch classifier loss: 0.596535\n",
            "epoch 28; iter: 0; batch classifier loss: 0.596274\n",
            "epoch 28; iter: 200; batch classifier loss: 0.587211\n",
            "epoch 29; iter: 0; batch classifier loss: 0.626303\n",
            "epoch 29; iter: 200; batch classifier loss: 0.564349\n",
            "epoch 30; iter: 0; batch classifier loss: 0.594667\n",
            "epoch 30; iter: 200; batch classifier loss: 0.615470\n",
            "epoch 31; iter: 0; batch classifier loss: 0.628668\n",
            "epoch 31; iter: 200; batch classifier loss: 0.530484\n",
            "epoch 32; iter: 0; batch classifier loss: 0.576259\n",
            "epoch 32; iter: 200; batch classifier loss: 0.592597\n",
            "epoch 33; iter: 0; batch classifier loss: 0.579384\n",
            "epoch 33; iter: 200; batch classifier loss: 0.526416\n",
            "epoch 34; iter: 0; batch classifier loss: 0.624928\n",
            "epoch 34; iter: 200; batch classifier loss: 0.548915\n",
            "epoch 35; iter: 0; batch classifier loss: 0.574723\n",
            "epoch 35; iter: 200; batch classifier loss: 0.617005\n",
            "epoch 36; iter: 0; batch classifier loss: 0.562610\n",
            "epoch 36; iter: 200; batch classifier loss: 0.622545\n",
            "epoch 37; iter: 0; batch classifier loss: 0.552433\n",
            "epoch 37; iter: 200; batch classifier loss: 0.569470\n",
            "epoch 38; iter: 0; batch classifier loss: 0.603694\n",
            "epoch 38; iter: 200; batch classifier loss: 0.556860\n",
            "epoch 39; iter: 0; batch classifier loss: 0.594879\n",
            "epoch 39; iter: 200; batch classifier loss: 0.631494\n",
            "epoch 40; iter: 0; batch classifier loss: 0.559770\n",
            "epoch 40; iter: 200; batch classifier loss: 0.545708\n",
            "epoch 41; iter: 0; batch classifier loss: 0.618277\n",
            "epoch 41; iter: 200; batch classifier loss: 0.568913\n",
            "epoch 42; iter: 0; batch classifier loss: 0.584798\n",
            "epoch 42; iter: 200; batch classifier loss: 0.575768\n",
            "epoch 43; iter: 0; batch classifier loss: 0.593925\n",
            "epoch 43; iter: 200; batch classifier loss: 0.566656\n",
            "epoch 44; iter: 0; batch classifier loss: 0.590999\n",
            "epoch 44; iter: 200; batch classifier loss: 0.599775\n",
            "epoch 45; iter: 0; batch classifier loss: 0.590697\n",
            "epoch 45; iter: 200; batch classifier loss: 0.610319\n",
            "epoch 46; iter: 0; batch classifier loss: 0.527749\n",
            "epoch 46; iter: 200; batch classifier loss: 0.606603\n",
            "epoch 47; iter: 0; batch classifier loss: 0.594697\n",
            "epoch 47; iter: 200; batch classifier loss: 0.512461\n",
            "epoch 48; iter: 0; batch classifier loss: 0.576659\n",
            "epoch 48; iter: 200; batch classifier loss: 0.608385\n",
            "epoch 49; iter: 0; batch classifier loss: 0.540854\n",
            "epoch 49; iter: 200; batch classifier loss: 0.651421\n"
          ]
        },
        {
          "output_type": "execute_result",
          "data": {
            "text/plain": [
              "<aif360.algorithms.inprocessing.adversarial_debiasing.AdversarialDebiasing at 0x7f606f32dc00>"
            ]
          },
          "metadata": {},
          "execution_count": 14
        }
      ]
    },
    {
      "cell_type": "code",
      "source": [
        "# Apply the plain model to test data\n",
        "dataset_nodebiasing_train = plain_model.predict(df_train)\n",
        "dataset_nodebiasing_test = plain_model.predict(df_test)"
      ],
      "metadata": {
        "id": "mOWR1K1egaF_"
      },
      "execution_count": null,
      "outputs": []
    },
    {
      "cell_type": "code",
      "source": [
        "# Metrics for the dataset from plain model (without debiasing)\n",
        "display(Markdown(\"#### Plain model - without debiasing - dataset metrics\"))\n",
        "metric_dataset_nodebiasing_train = BinaryLabelDatasetMetric(dataset_nodebiasing_train,\n",
        "                                             unprivileged_groups=unprivileged_groups,\n",
        "                                             privileged_groups=privileged_groups)\n",
        "\n",
        "print(\"Train set: Difference in mean outcomes between unprivileged and privileged groups = %f\" % metric_dataset_nodebiasing_train.mean_difference())\n",
        "\n",
        "metric_dataset_nodebiasing_test = BinaryLabelDatasetMetric(dataset_nodebiasing_test,\n",
        "                                             unprivileged_groups=unprivileged_groups,\n",
        "                                             privileged_groups=privileged_groups)\n",
        "\n",
        "print(\"Test set: Difference in mean outcomes between unprivileged and privileged groups = %f\" % metric_dataset_nodebiasing_test.mean_difference())\n",
        "\n",
        "display(Markdown(\"#### Plain model - without debiasing - classification metrics\"))\n",
        "classified_metric_nodebiasing_test = ClassificationMetric(df_test,\n",
        "                                                 dataset_nodebiasing_test,\n",
        "                                                 unprivileged_groups=unprivileged_groups,\n",
        "                                                 privileged_groups=privileged_groups)\n",
        "print(\"Test set: Classification accuracy = %f\" % classified_metric_nodebiasing_test.accuracy())\n",
        "TPR = classified_metric_nodebiasing_test.true_positive_rate()\n",
        "TNR = classified_metric_nodebiasing_test.true_negative_rate()\n",
        "bal_acc_nodebiasing_test = 0.5*(TPR+TNR)\n",
        "print(\"Test set: Balanced classification accuracy = %f\" % bal_acc_nodebiasing_test)\n",
        "print(\"Test set: Disparate impact = %f\" % classified_metric_nodebiasing_test.disparate_impact())\n",
        "print(\"Test set: Equal opportunity difference = %f\" % classified_metric_nodebiasing_test.equal_opportunity_difference())\n",
        "print(\"Test set: Average odds difference = %f\" % classified_metric_nodebiasing_test.average_odds_difference())\n",
        "print(\"Test set: Theil_index = %f\" % classified_metric_nodebiasing_test.theil_index())"
      ],
      "metadata": {
        "id": "z8wPEWTPhLx2",
        "outputId": "472e514a-6fc9-4b86-d2eb-358036c1b42f",
        "colab": {
          "base_uri": "https://localhost:8080/",
          "height": 236
        }
      },
      "execution_count": null,
      "outputs": [
        {
          "output_type": "display_data",
          "data": {
            "text/plain": [
              "<IPython.core.display.Markdown object>"
            ],
            "text/markdown": "#### Plain model - without debiasing - dataset metrics"
          },
          "metadata": {}
        },
        {
          "output_type": "stream",
          "name": "stdout",
          "text": [
            "Train set: Difference in mean outcomes between unprivileged and privileged groups = -0.012606\n",
            "Test set: Difference in mean outcomes between unprivileged and privileged groups = -0.008421\n"
          ]
        },
        {
          "output_type": "display_data",
          "data": {
            "text/plain": [
              "<IPython.core.display.Markdown object>"
            ],
            "text/markdown": "#### Plain model - without debiasing - classification metrics"
          },
          "metadata": {}
        },
        {
          "output_type": "stream",
          "name": "stdout",
          "text": [
            "Test set: Classification accuracy = 0.715286\n",
            "Test set: Balanced classification accuracy = 0.715403\n",
            "Test set: Disparate impact = 0.982165\n",
            "Test set: Equal opportunity difference = -0.011028\n",
            "Test set: Average odds difference = -0.013811\n",
            "Test set: Theil_index = 0.213794\n"
          ]
        }
      ]
    },
    {
      "cell_type": "markdown",
      "source": [
        "### Apply in-processing algorithm based on adversarial learning"
      ],
      "metadata": {
        "id": "yfwDnqLJlhXO"
      }
    },
    {
      "cell_type": "code",
      "source": [
        "sess.close()\n",
        "tf.reset_default_graph()\n",
        "sess = tf.Session()"
      ],
      "metadata": {
        "id": "0jnfBGulhfDE"
      },
      "execution_count": null,
      "outputs": []
    },
    {
      "cell_type": "code",
      "source": [
        "# Learn parameters with debias set to True\n",
        "debiased_model = AdversarialDebiasing(privileged_groups = privileged_groups,\n",
        "                          unprivileged_groups = unprivileged_groups,\n",
        "                          scope_name='debiased_classifier',\n",
        "                          debias=True,\n",
        "                          sess=sess)"
      ],
      "metadata": {
        "id": "3FIgtczZivep"
      },
      "execution_count": null,
      "outputs": []
    },
    {
      "cell_type": "code",
      "source": [
        "debiased_model.fit(df_train)"
      ],
      "metadata": {
        "id": "1sXw7WnCi0L6",
        "outputId": "5d4642ca-45ff-4e20-fb1d-22a8ea35a488",
        "colab": {
          "base_uri": "https://localhost:8080/"
        }
      },
      "execution_count": null,
      "outputs": [
        {
          "output_type": "stream",
          "name": "stdout",
          "text": [
            "epoch 0; iter: 0; batch classifier loss: 0.697589; batch adversarial loss: 0.657995\n",
            "epoch 0; iter: 200; batch classifier loss: 1.221305; batch adversarial loss: 0.534498\n",
            "epoch 1; iter: 0; batch classifier loss: 1.494440; batch adversarial loss: 0.378727\n",
            "epoch 1; iter: 200; batch classifier loss: 1.791937; batch adversarial loss: 0.279355\n",
            "epoch 2; iter: 0; batch classifier loss: 1.634882; batch adversarial loss: 0.137710\n",
            "epoch 2; iter: 200; batch classifier loss: 1.895568; batch adversarial loss: 0.069582\n",
            "epoch 3; iter: 0; batch classifier loss: 2.027255; batch adversarial loss: -0.067704\n",
            "epoch 3; iter: 200; batch classifier loss: 2.815264; batch adversarial loss: -0.079274\n",
            "epoch 4; iter: 0; batch classifier loss: 2.844057; batch adversarial loss: -0.214732\n",
            "epoch 4; iter: 200; batch classifier loss: 2.640095; batch adversarial loss: -0.285088\n",
            "epoch 5; iter: 0; batch classifier loss: 2.667764; batch adversarial loss: -0.420371\n",
            "epoch 5; iter: 200; batch classifier loss: 3.011271; batch adversarial loss: -0.397294\n",
            "epoch 6; iter: 0; batch classifier loss: 3.792090; batch adversarial loss: -0.580412\n",
            "epoch 6; iter: 200; batch classifier loss: 2.889398; batch adversarial loss: -0.834778\n",
            "epoch 7; iter: 0; batch classifier loss: 3.632259; batch adversarial loss: -0.645688\n",
            "epoch 7; iter: 200; batch classifier loss: 3.300123; batch adversarial loss: -0.766402\n",
            "epoch 8; iter: 0; batch classifier loss: 3.368609; batch adversarial loss: -0.825504\n",
            "epoch 8; iter: 200; batch classifier loss: 3.153235; batch adversarial loss: -0.760447\n",
            "epoch 9; iter: 0; batch classifier loss: 3.510177; batch adversarial loss: -0.899420\n",
            "epoch 9; iter: 200; batch classifier loss: 3.526952; batch adversarial loss: -1.051679\n",
            "epoch 10; iter: 0; batch classifier loss: 3.591084; batch adversarial loss: -0.888173\n",
            "epoch 10; iter: 200; batch classifier loss: 3.002973; batch adversarial loss: -1.170946\n",
            "epoch 11; iter: 0; batch classifier loss: 3.573211; batch adversarial loss: -1.198410\n",
            "epoch 11; iter: 200; batch classifier loss: 3.659829; batch adversarial loss: -0.754419\n",
            "epoch 12; iter: 0; batch classifier loss: 3.560427; batch adversarial loss: -1.426042\n",
            "epoch 12; iter: 200; batch classifier loss: 2.759494; batch adversarial loss: -1.307947\n",
            "epoch 13; iter: 0; batch classifier loss: 3.537803; batch adversarial loss: -1.609584\n",
            "epoch 13; iter: 200; batch classifier loss: 3.664218; batch adversarial loss: -1.641494\n",
            "epoch 14; iter: 0; batch classifier loss: 3.417856; batch adversarial loss: -1.127049\n",
            "epoch 14; iter: 200; batch classifier loss: 3.377439; batch adversarial loss: -1.794704\n",
            "epoch 15; iter: 0; batch classifier loss: 3.512461; batch adversarial loss: -1.422562\n",
            "epoch 15; iter: 200; batch classifier loss: 3.322577; batch adversarial loss: -1.508729\n",
            "epoch 16; iter: 0; batch classifier loss: 2.653761; batch adversarial loss: -1.363605\n",
            "epoch 16; iter: 200; batch classifier loss: 3.342439; batch adversarial loss: -1.681522\n",
            "epoch 17; iter: 0; batch classifier loss: 3.731421; batch adversarial loss: -1.566743\n",
            "epoch 17; iter: 200; batch classifier loss: 3.669144; batch adversarial loss: -1.986848\n",
            "epoch 18; iter: 0; batch classifier loss: 3.747017; batch adversarial loss: -1.740988\n",
            "epoch 18; iter: 200; batch classifier loss: 3.503736; batch adversarial loss: -2.096134\n",
            "epoch 19; iter: 0; batch classifier loss: 3.398612; batch adversarial loss: -1.966745\n",
            "epoch 19; iter: 200; batch classifier loss: 3.800346; batch adversarial loss: -2.108869\n",
            "epoch 20; iter: 0; batch classifier loss: 3.301583; batch adversarial loss: -1.828831\n",
            "epoch 20; iter: 200; batch classifier loss: 3.427751; batch adversarial loss: -2.210602\n",
            "epoch 21; iter: 0; batch classifier loss: 3.469531; batch adversarial loss: -2.455407\n",
            "epoch 21; iter: 200; batch classifier loss: 4.198328; batch adversarial loss: -2.108877\n",
            "epoch 22; iter: 0; batch classifier loss: 2.713602; batch adversarial loss: -2.100254\n",
            "epoch 22; iter: 200; batch classifier loss: 3.626057; batch adversarial loss: -2.512933\n",
            "epoch 23; iter: 0; batch classifier loss: 2.747435; batch adversarial loss: -2.454418\n",
            "epoch 23; iter: 200; batch classifier loss: 2.783961; batch adversarial loss: -2.887444\n",
            "epoch 24; iter: 0; batch classifier loss: 3.184841; batch adversarial loss: -2.439702\n",
            "epoch 24; iter: 200; batch classifier loss: 2.821564; batch adversarial loss: -2.317374\n",
            "epoch 25; iter: 0; batch classifier loss: 2.518645; batch adversarial loss: -2.184587\n",
            "epoch 25; iter: 200; batch classifier loss: 2.879381; batch adversarial loss: -3.279583\n",
            "epoch 26; iter: 0; batch classifier loss: 2.543354; batch adversarial loss: -2.798431\n",
            "epoch 26; iter: 200; batch classifier loss: 2.253725; batch adversarial loss: -2.726043\n",
            "epoch 27; iter: 0; batch classifier loss: 1.545096; batch adversarial loss: -2.707067\n",
            "epoch 27; iter: 200; batch classifier loss: 1.748723; batch adversarial loss: -2.627704\n",
            "epoch 28; iter: 0; batch classifier loss: 1.643082; batch adversarial loss: -2.604738\n",
            "epoch 28; iter: 200; batch classifier loss: 1.254951; batch adversarial loss: -2.585515\n",
            "epoch 29; iter: 0; batch classifier loss: 1.322765; batch adversarial loss: -2.819964\n",
            "epoch 29; iter: 200; batch classifier loss: 1.170799; batch adversarial loss: -2.331621\n",
            "epoch 30; iter: 0; batch classifier loss: 1.296736; batch adversarial loss: -2.833351\n",
            "epoch 30; iter: 200; batch classifier loss: 1.265306; batch adversarial loss: -2.671195\n",
            "epoch 31; iter: 0; batch classifier loss: 1.475108; batch adversarial loss: -3.259092\n",
            "epoch 31; iter: 200; batch classifier loss: 1.309607; batch adversarial loss: -2.817848\n",
            "epoch 32; iter: 0; batch classifier loss: 1.304314; batch adversarial loss: -3.277135\n",
            "epoch 32; iter: 200; batch classifier loss: 1.119431; batch adversarial loss: -3.467473\n",
            "epoch 33; iter: 0; batch classifier loss: 1.609821; batch adversarial loss: -4.239707\n",
            "epoch 33; iter: 200; batch classifier loss: 1.425974; batch adversarial loss: -3.407526\n",
            "epoch 34; iter: 0; batch classifier loss: 1.531533; batch adversarial loss: -3.598486\n",
            "epoch 34; iter: 200; batch classifier loss: 1.264241; batch adversarial loss: -2.884775\n",
            "epoch 35; iter: 0; batch classifier loss: 1.534401; batch adversarial loss: -4.069811\n",
            "epoch 35; iter: 200; batch classifier loss: 1.492420; batch adversarial loss: -3.568691\n",
            "epoch 36; iter: 0; batch classifier loss: 1.530453; batch adversarial loss: -3.918811\n",
            "epoch 36; iter: 200; batch classifier loss: 1.508415; batch adversarial loss: -3.886462\n",
            "epoch 37; iter: 0; batch classifier loss: 1.404772; batch adversarial loss: -3.530370\n",
            "epoch 37; iter: 200; batch classifier loss: 1.605242; batch adversarial loss: -3.737722\n",
            "epoch 38; iter: 0; batch classifier loss: 1.723891; batch adversarial loss: -3.766331\n",
            "epoch 38; iter: 200; batch classifier loss: 1.095078; batch adversarial loss: -3.317401\n",
            "epoch 39; iter: 0; batch classifier loss: 1.470394; batch adversarial loss: -3.426446\n",
            "epoch 39; iter: 200; batch classifier loss: 1.316959; batch adversarial loss: -3.629642\n",
            "epoch 40; iter: 0; batch classifier loss: 1.212405; batch adversarial loss: -2.809988\n",
            "epoch 40; iter: 200; batch classifier loss: 1.492703; batch adversarial loss: -4.038774\n",
            "epoch 41; iter: 0; batch classifier loss: 1.230241; batch adversarial loss: -3.298599\n",
            "epoch 41; iter: 200; batch classifier loss: 1.657488; batch adversarial loss: -4.116321\n",
            "epoch 42; iter: 0; batch classifier loss: 1.329753; batch adversarial loss: -4.159215\n",
            "epoch 42; iter: 200; batch classifier loss: 1.840301; batch adversarial loss: -4.372890\n",
            "epoch 43; iter: 0; batch classifier loss: 1.599315; batch adversarial loss: -4.312862\n",
            "epoch 43; iter: 200; batch classifier loss: 1.232461; batch adversarial loss: -4.078921\n",
            "epoch 44; iter: 0; batch classifier loss: 1.733339; batch adversarial loss: -5.028256\n",
            "epoch 44; iter: 200; batch classifier loss: 1.614433; batch adversarial loss: -4.517686\n",
            "epoch 45; iter: 0; batch classifier loss: 2.008948; batch adversarial loss: -4.272666\n",
            "epoch 45; iter: 200; batch classifier loss: 1.591280; batch adversarial loss: -4.029353\n",
            "epoch 46; iter: 0; batch classifier loss: 1.720789; batch adversarial loss: -5.000816\n",
            "epoch 46; iter: 200; batch classifier loss: 1.819744; batch adversarial loss: -5.426008\n",
            "epoch 47; iter: 0; batch classifier loss: 1.761487; batch adversarial loss: -4.695934\n",
            "epoch 47; iter: 200; batch classifier loss: 1.428164; batch adversarial loss: -3.962234\n",
            "epoch 48; iter: 0; batch classifier loss: 1.615671; batch adversarial loss: -3.793463\n",
            "epoch 48; iter: 200; batch classifier loss: 1.671653; batch adversarial loss: -4.510630\n",
            "epoch 49; iter: 0; batch classifier loss: 1.697836; batch adversarial loss: -4.737994\n",
            "epoch 49; iter: 200; batch classifier loss: 1.291878; batch adversarial loss: -3.677978\n"
          ]
        },
        {
          "output_type": "execute_result",
          "data": {
            "text/plain": [
              "<aif360.algorithms.inprocessing.adversarial_debiasing.AdversarialDebiasing at 0x7f606ea8c7c0>"
            ]
          },
          "metadata": {},
          "execution_count": 19
        }
      ]
    },
    {
      "cell_type": "code",
      "source": [
        "# Apply the plain model to test data\n",
        "dataset_debiasing_train = debiased_model.predict(df_train)\n",
        "dataset_debiasing_test = debiased_model.predict(df_test)"
      ],
      "metadata": {
        "id": "b44RYmZDi5_y"
      },
      "execution_count": null,
      "outputs": []
    },
    {
      "cell_type": "code",
      "source": [
        "# Metrics for the dataset from plain model (without debiasing)\n",
        "display(Markdown(\"#### Plain model - without debiasing - dataset metrics\"))\n",
        "print(\"Train set: Difference in mean outcomes between unprivileged and privileged groups = %f\" % metric_dataset_nodebiasing_train.mean_difference())\n",
        "print(\"Test set: Difference in mean outcomes between unprivileged and privileged groups = %f\" % metric_dataset_nodebiasing_test.mean_difference())\n",
        "\n",
        "# Metrics for the dataset from model with debiasing\n",
        "display(Markdown(\"#### Model - with debiasing - dataset metrics\"))\n",
        "metric_dataset_debiasing_train = BinaryLabelDatasetMetric(dataset_debiasing_train,\n",
        "                                             unprivileged_groups=unprivileged_groups,\n",
        "                                             privileged_groups=privileged_groups)\n",
        "\n",
        "print(\"Train set: Difference in mean outcomes between unprivileged and privileged groups = %f\" % metric_dataset_debiasing_train.mean_difference())\n",
        "\n",
        "metric_dataset_debiasing_test = BinaryLabelDatasetMetric(dataset_debiasing_test,\n",
        "                                             unprivileged_groups=unprivileged_groups,\n",
        "                                             privileged_groups=privileged_groups)\n",
        "\n",
        "print(\"Test set: Difference in mean outcomes between unprivileged and privileged groups = %f\" % metric_dataset_debiasing_test.mean_difference())\n",
        "\n",
        "\n",
        "\n",
        "display(Markdown(\"#### Plain model - without debiasing - classification metrics\"))\n",
        "print(\"Test set: Classification accuracy = %f\" % classified_metric_nodebiasing_test.accuracy())\n",
        "TPR = classified_metric_nodebiasing_test.true_positive_rate()\n",
        "TNR = classified_metric_nodebiasing_test.true_negative_rate()\n",
        "bal_acc_nodebiasing_test = 0.5*(TPR+TNR)\n",
        "print(\"Test set: Balanced classification accuracy = %f\" % bal_acc_nodebiasing_test)\n",
        "print(\"Test set: Disparate impact = %f\" % classified_metric_nodebiasing_test.disparate_impact())\n",
        "print(\"Test set: Equal opportunity difference = %f\" % classified_metric_nodebiasing_test.equal_opportunity_difference())\n",
        "print(\"Test set: Average odds difference = %f\" % classified_metric_nodebiasing_test.average_odds_difference())\n",
        "print(\"Test set: Theil_index = %f\" % classified_metric_nodebiasing_test.theil_index())\n",
        "\n",
        "\n",
        "\n",
        "display(Markdown(\"#### Model - with debiasing - classification metrics\"))\n",
        "classified_metric_debiasing_test = ClassificationMetric(df_test,\n",
        "                                                 dataset_debiasing_test,\n",
        "                                                 unprivileged_groups=unprivileged_groups,\n",
        "                                                 privileged_groups=privileged_groups)\n",
        "print(\"Test set: Classification accuracy = %f\" % classified_metric_debiasing_test.accuracy())\n",
        "TPR = classified_metric_debiasing_test.true_positive_rate()\n",
        "TNR = classified_metric_debiasing_test.true_negative_rate()\n",
        "bal_acc_debiasing_test = 0.5*(TPR+TNR)\n",
        "print(\"Test set: Balanced classification accuracy = %f\" % bal_acc_debiasing_test)\n",
        "print(\"Test set: Disparate impact = %f\" % classified_metric_debiasing_test.disparate_impact())\n",
        "print(\"Test set: Equal opportunity difference = %f\" % classified_metric_debiasing_test.equal_opportunity_difference())\n",
        "print(\"Test set: Average odds difference = %f\" % classified_metric_debiasing_test.average_odds_difference())\n",
        "print(\"Test set: Theil_index = %f\" % classified_metric_debiasing_test.theil_index())"
      ],
      "metadata": {
        "id": "hRsiHT82jKTw",
        "outputId": "10d9d15f-2796-4eae-f39e-792822e5c7c9",
        "colab": {
          "base_uri": "https://localhost:8080/",
          "height": 455
        }
      },
      "execution_count": null,
      "outputs": [
        {
          "output_type": "display_data",
          "data": {
            "text/plain": [
              "<IPython.core.display.Markdown object>"
            ],
            "text/markdown": "#### Plain model - without debiasing - dataset metrics"
          },
          "metadata": {}
        },
        {
          "output_type": "stream",
          "name": "stdout",
          "text": [
            "Train set: Difference in mean outcomes between unprivileged and privileged groups = -0.012606\n",
            "Test set: Difference in mean outcomes between unprivileged and privileged groups = -0.008421\n"
          ]
        },
        {
          "output_type": "display_data",
          "data": {
            "text/plain": [
              "<IPython.core.display.Markdown object>"
            ],
            "text/markdown": "#### Model - with debiasing - dataset metrics"
          },
          "metadata": {}
        },
        {
          "output_type": "stream",
          "name": "stdout",
          "text": [
            "Train set: Difference in mean outcomes between unprivileged and privileged groups = -0.103546\n",
            "Test set: Difference in mean outcomes between unprivileged and privileged groups = -0.104392\n"
          ]
        },
        {
          "output_type": "display_data",
          "data": {
            "text/plain": [
              "<IPython.core.display.Markdown object>"
            ],
            "text/markdown": "#### Plain model - without debiasing - classification metrics"
          },
          "metadata": {}
        },
        {
          "output_type": "stream",
          "name": "stdout",
          "text": [
            "Test set: Classification accuracy = 0.715286\n",
            "Test set: Balanced classification accuracy = 0.715403\n",
            "Test set: Disparate impact = 0.982165\n",
            "Test set: Equal opportunity difference = -0.011028\n",
            "Test set: Average odds difference = -0.013811\n",
            "Test set: Theil_index = 0.213794\n"
          ]
        },
        {
          "output_type": "display_data",
          "data": {
            "text/plain": [
              "<IPython.core.display.Markdown object>"
            ],
            "text/markdown": "#### Model - with debiasing - classification metrics"
          },
          "metadata": {}
        },
        {
          "output_type": "stream",
          "name": "stdout",
          "text": [
            "Test set: Classification accuracy = 0.536905\n",
            "Test set: Balanced classification accuracy = 0.538510\n",
            "Test set: Disparate impact = 0.000000\n",
            "Test set: Equal opportunity difference = -0.164803\n",
            "Test set: Average odds difference = -0.104692\n",
            "Test set: Theil_index = 0.604764\n"
          ]
        }
      ]
    },
    {
      "cell_type": "code",
      "source": [
        "# Define functions for plotting\n",
        "def plot_difference_in_mean(train_metric, test_metric, title):\n",
        "    plt.figure(figsize=(8, 6))\n",
        "    plt.bar(['Train Set', 'Test Set'], [train_metric.mean_difference(), test_metric.mean_difference()], color=['blue', 'green'])\n",
        "    plt.title(title)\n",
        "    plt.ylabel('Difference in Mean Outcomes')\n",
        "    plt.xlabel('Dataset')\n",
        "    plt.ylim(0, 0.5)  # Adjust ylim as needed\n",
        "    plt.grid(axis='y')\n",
        "    plt.show()\n",
        "\n",
        "def plot_classification_metrics(classified_metric, title):\n",
        "    metrics = ['Accuracy', 'Balanced Accuracy', 'Disparate Impact', 'Equal Opportunity Difference', 'Average Odds Difference', 'Theil Index']\n",
        "    values = [classified_metric.accuracy(), (classified_metric.true_positive_rate() + classified_metric.true_negative_rate()) / 2,\n",
        "              classified_metric.disparate_impact(), classified_metric.equal_opportunity_difference(),\n",
        "              classified_metric.average_odds_difference(), classified_metric.theil_index()]\n",
        "\n",
        "    plt.figure(figsize=(10, 6))\n",
        "    plt.bar(metrics, values, color=['blue', 'green', 'red', 'purple', 'orange', 'gray'])\n",
        "    plt.title(title)\n",
        "    plt.ylabel('Metric Value')\n",
        "    plt.xlabel('Metric')\n",
        "    plt.xticks(rotation=45)\n",
        "    plt.grid(axis='y')\n",
        "    plt.tight_layout()\n",
        "    plt.show()\n",
        "\n",
        "\n",
        "\n",
        "# Plotting the classification metrics for the plain model\n",
        "plot_classification_metrics(classified_metric_nodebiasing_test, \"Classification Metrics - Plain Model\")\n",
        "\n",
        "# Plotting the classification metrics for the model with debiasing\n",
        "plot_classification_metrics(classified_metric_debiasing_test, \"Classification Metrics - Model with Debiasing\")"
      ],
      "metadata": {
        "id": "OWJ2BuEKjRcB",
        "outputId": "4638df4b-1ed4-4979-cef5-edec1166a649",
        "colab": {
          "base_uri": "https://localhost:8080/",
          "height": 1000
        }
      },
      "execution_count": null,
      "outputs": [
        {
          "output_type": "display_data",
          "data": {
            "text/plain": [
              "<Figure size 1000x600 with 1 Axes>"
            ],
            "image/png": "[encoded data removed]"
          },
          "metadata": {}
        },
        {
          "output_type": "display_data",
          "data": {
            "text/plain": [
              "<Figure size 1000x600 with 1 Axes>"
            ],
            "image/png": "[encoded data removed]"
          },
          "metadata": {}
        }
      ]
    },
    {
      "cell_type": "code",
      "source": [],
      "metadata": {
        "id": "WdemU0T8j3dP"
      },
      "execution_count": null,
      "outputs": []
    }
  ]
}