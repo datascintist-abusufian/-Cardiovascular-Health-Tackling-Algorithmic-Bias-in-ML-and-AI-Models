{
  "cells": [
    {
      "cell_type": "code",
      "execution_count": null,
      "metadata": {
        "colab": {
          "base_uri": "https://localhost:8080/"
        },
        "id": "0FqgMr-jCI2X",
        "outputId": "1a433637-1489-4b6f-b5ad-50339b76afab"
      },
      "outputs": [
        {
          "name": "stdout",
          "output_type": "stream",
          "text": [
            "Collecting aif360\n",
            "  Downloading aif360-0.6.1-py3-none-any.whl (259 kB)\n",
            "\u001b[?25l     \u001b[90m━━━━━━━━━━━━━━━━━━━━━━━━━━━━━━━━━━━━━━━━\u001b[0m \u001b[32m0.0/259.7 kB\u001b[0m \u001b[31m?\u001b[0m eta \u001b[36m-:--:--\u001b[0m\r\u001b[2K     \u001b[91m━━━━━━━━━━━━━━━━━━━━━━━━━━━━━━━━━━━━\u001b[0m\u001b[90m╺\u001b[0m\u001b[90m━━━\u001b[0m \u001b[32m235.5/259.7 kB\u001b[0m \u001b[31m6.9 MB/s\u001b[0m eta \u001b[36m0:00:01\u001b[0m\r\u001b[2K     \u001b[90m━━━━━━━━━━━━━━━━━━━━━━━━━━━━━━━━━━━━━━━━\u001b[0m \u001b[32m259.7/259.7 kB\u001b[0m \u001b[31m5.5 MB/s\u001b[0m eta \u001b[36m0:00:00\u001b[0m\n",
            "\u001b[?25hRequirement already satisfied: numpy>=1.16 in /usr/local/lib/python3.10/dist-packages (from aif360) (1.25.2)\n",
            "Requirement already satisfied: scipy>=1.2.0 in /usr/local/lib/python3.10/dist-packages (from aif360) (1.11.4)\n",
            "Requirement already satisfied: pandas>=0.24.0 in /usr/local/lib/python3.10/dist-packages (from aif360) (2.0.3)\n",
            "Requirement already satisfied: scikit-learn>=1.0 in /usr/local/lib/python3.10/dist-packages (from aif360) (1.2.2)\n",
            "Requirement already satisfied: matplotlib in /usr/local/lib/python3.10/dist-packages (from aif360) (3.7.1)\n",
            "Requirement already satisfied: python-dateutil>=2.8.2 in /usr/local/lib/python3.10/dist-packages (from pandas>=0.24.0->aif360) (2.8.2)\n",
            "Requirement already satisfied: pytz>=2020.1 in /usr/local/lib/python3.10/dist-packages (from pandas>=0.24.0->aif360) (2023.4)\n",
            "Requirement already satisfied: tzdata>=2022.1 in /usr/local/lib/python3.10/dist-packages (from pandas>=0.24.0->aif360) (2024.1)\n",
            "Requirement already satisfied: joblib>=1.1.1 in /usr/local/lib/python3.10/dist-packages (from scikit-learn>=1.0->aif360) (1.4.2)\n",
            "Requirement already satisfied: threadpoolctl>=2.0.0 in /usr/local/lib/python3.10/dist-packages (from scikit-learn>=1.0->aif360) (3.5.0)\n",
            "Requirement already satisfied: contourpy>=1.0.1 in /usr/local/lib/python3.10/dist-packages (from matplotlib->aif360) (1.2.1)\n",
            "Requirement already satisfied: cycler>=0.10 in /usr/local/lib/python3.10/dist-packages (from matplotlib->aif360) (0.12.1)\n",
            "Requirement already satisfied: fonttools>=4.22.0 in /usr/local/lib/python3.10/dist-packages (from matplotlib->aif360) (4.51.0)\n",
            "Requirement already satisfied: kiwisolver>=1.0.1 in /usr/local/lib/python3.10/dist-packages (from matplotlib->aif360) (1.4.5)\n",
            "Requirement already satisfied: packaging>=20.0 in /usr/local/lib/python3.10/dist-packages (from matplotlib->aif360) (24.0)\n",
            "Requirement already satisfied: pillow>=6.2.0 in /usr/local/lib/python3.10/dist-packages (from matplotlib->aif360) (9.4.0)\n",
            "Requirement already satisfied: pyparsing>=2.3.1 in /usr/local/lib/python3.10/dist-packages (from matplotlib->aif360) (3.1.2)\n",
            "Requirement already satisfied: six>=1.5 in /usr/local/lib/python3.10/dist-packages (from python-dateutil>=2.8.2->pandas>=0.24.0->aif360) (1.16.0)\n",
            "Installing collected packages: aif360\n",
            "Successfully installed aif360-0.6.1\n"
          ]
        },
        {
          "name": "stderr",
          "output_type": "stream",
          "text": [
            "WARNING:root:No module named 'fairlearn': ExponentiatedGradientReduction will be unavailable. To install, run:\n",
            "pip install 'aif360[Reductions]'\n",
            "WARNING:root:No module named 'fairlearn': GridSearchReduction will be unavailable. To install, run:\n",
            "pip install 'aif360[Reductions]'\n",
            "WARNING:root:No module named 'inFairness': SenSeI and SenSR will be unavailable. To install, run:\n",
            "pip install 'aif360[inFairness]'\n",
            "WARNING:root:No module named 'fairlearn': GridSearchReduction will be unavailable. To install, run:\n",
            "pip install 'aif360[Reductions]'\n"
          ]
        }
      ],
      "source": [
        "!pip install aif360\n",
        "%matplotlib inline\n",
        "# Load all necessary packages\n",
        "import sys\n",
        "sys.path.append(\"../\")\n",
        "from aif360.datasets import BinaryLabelDataset\n",
        "from aif360.datasets import StandardDataset\n",
        "from aif360.metrics import BinaryLabelDatasetMetric\n",
        "from aif360.metrics import ClassificationMetric\n",
        "from aif360.metrics.utils import compute_boolean_conditioning_vector\n",
        "\n",
        "from aif360.algorithms.preprocessing.optim_preproc_helpers.data_preproc_functions import load_preproc_data_adult, load_preproc_data_compas, load_preproc_data_german\n",
        "\n",
        "from aif360.algorithms.inprocessing.adversarial_debiasing import AdversarialDebiasing\n",
        "\n",
        "from sklearn.linear_model import LogisticRegression\n",
        "from sklearn.preprocessing import StandardScaler, MaxAbsScaler\n",
        "from sklearn.metrics import accuracy_score\n",
        "\n",
        "from IPython.display import Markdown, display\n",
        "import matplotlib.pyplot as plt\n",
        "\n",
        "import tensorflow.compat.v1 as tf\n",
        "tf.disable_eager_execution()"
      ]
    },
    {
      "cell_type": "code",
      "execution_count": null,
      "metadata": {
        "colab": {
          "base_uri": "https://localhost:8080/",
          "height": 668
        },
        "id": "H-Mll5kLCj3O",
        "outputId": "b4d844f6-35a6-401b-883f-86ef6f9e1176"
      },
      "outputs": [
        {
          "name": "stdout",
          "output_type": "stream",
          "text": [
            "<class 'pandas.core.frame.DataFrame'>\n",
            "RangeIndex: 70000 entries, 0 to 69999\n",
            "Data columns (total 13 columns):\n",
            " #   Column       Non-Null Count  Dtype  \n",
            "---  ------       --------------  -----  \n",
            " 0   id           70000 non-null  int64  \n",
            " 1   age          70000 non-null  int64  \n",
            " 2   gender       70000 non-null  int64  \n",
            " 3   height       70000 non-null  int64  \n",
            " 4   weight       70000 non-null  float64\n",
            " 5   ap_hi        70000 non-null  int64  \n",
            " 6   ap_lo        70000 non-null  int64  \n",
            " 7   cholesterol  70000 non-null  int64  \n",
            " 8   gluc         70000 non-null  int64  \n",
            " 9   smoke        70000 non-null  int64  \n",
            " 10  alco         70000 non-null  int64  \n",
            " 11  active       70000 non-null  int64  \n",
            " 12  cardio       70000 non-null  int64  \n",
            "dtypes: float64(1), int64(12)\n",
            "memory usage: 6.9 MB\n"
          ]
        },
        {
          "data": {
            "application/vnd.google.colaboratory.intrinsic+json": {
              "summary": "{\n  \"name\": \"df\",\n  \"rows\": 8,\n  \"fields\": [\n    {\n      \"column\": \"id\",\n      \"properties\": {\n        \"dtype\": \"number\",\n        \"std\": 31827.887052457605,\n        \"min\": 0.0,\n        \"max\": 99999.0,\n        \"num_unique_values\": 8,\n        \"samples\": [\n          49972.4199,\n          50001.5,\n          70000.0\n        ],\n        \"semantic_type\": \"\",\n        \"description\": \"\"\n      }\n    },\n    {\n      \"column\": \"age\",\n      \"properties\": {\n        \"dtype\": \"number\",\n        \"std\": 20122.620892544895,\n        \"min\": 2467.251667241401,\n        \"max\": 70000.0,\n        \"num_unique_values\": 8,\n        \"samples\": [\n          19468.865814285713,\n          19703.0,\n          70000.0\n        ],\n        \"semantic_type\": \"\",\n        \"description\": \"\"\n      }\n    },\n    {\n      \"column\": \"gender\",\n      \"properties\": {\n        \"dtype\": \"number\",\n        \"std\": 24748.29154607086,\n        \"min\": 0.4768380155828639,\n        \"max\": 70000.0,\n        \"num_unique_values\": 5,\n        \"samples\": [\n          1.3495714285714286,\n          2.0,\n          0.4768380155828639\n        ],\n        \"semantic_type\": \"\",\n        \"description\": \"\"\n      }\n    },\n    {\n      \"column\": \"height\",\n      \"properties\": {\n        \"dtype\": \"number\",\n        \"std\": 24699.778932713376,\n        \"min\": 8.210126364538038,\n        \"max\": 70000.0,\n        \"num_unique_values\": 8,\n        \"samples\": [\n          164.35922857142856,\n          165.0,\n          70000.0\n        ],\n        \"semantic_type\": \"\",\n        \"description\": \"\"\n      }\n    },\n    {\n      \"column\": \"weight\",\n      \"properties\": {\n        \"dtype\": \"number\",\n        \"std\": 24722.662918574366,\n        \"min\": 10.0,\n        \"max\": 70000.0,\n        \"num_unique_values\": 8,\n        \"samples\": [\n          74.20569,\n          72.0,\n          70000.0\n        ],\n        \"semantic_type\": \"\",\n        \"description\": \"\"\n      }\n    },\n    {\n      \"column\": \"ap_hi\",\n      \"properties\": {\n        \"dtype\": \"number\",\n        \"std\": 24555.36109035961,\n        \"min\": -150.0,\n        \"max\": 70000.0,\n        \"num_unique_values\": 7,\n        \"samples\": [\n          70000.0,\n          128.8172857142857,\n          140.0\n        ],\n        \"semantic_type\": \"\",\n        \"description\": \"\"\n      }\n    },\n    {\n      \"column\": \"ap_lo\",\n      \"properties\": {\n        \"dtype\": \"number\",\n        \"std\": 24470.099201766985,\n        \"min\": -70.0,\n        \"max\": 70000.0,\n        \"num_unique_values\": 7,\n        \"samples\": [\n          70000.0,\n          96.63041428571428,\n          90.0\n        ],\n        \"semantic_type\": \"\",\n        \"description\": \"\"\n      }\n    },\n    {\n      \"column\": \"cholesterol\",\n      \"properties\": {\n        \"dtype\": \"number\",\n        \"std\": 24748.229896533994,\n        \"min\": 0.6802503486993808,\n        \"max\": 70000.0,\n        \"num_unique_values\": 6,\n        \"samples\": [\n          70000.0,\n          1.3668714285714285,\n          3.0\n        ],\n        \"semantic_type\": \"\",\n        \"description\": \"\"\n      }\n    },\n    {\n      \"column\": \"gluc\",\n      \"properties\": {\n        \"dtype\": \"number\",\n        \"std\": 24748.29294957143,\n        \"min\": 0.572270276613845,\n        \"max\": 70000.0,\n        \"num_unique_values\": 5,\n        \"samples\": [\n          1.226457142857143,\n          3.0,\n          0.572270276613845\n        ],\n        \"semantic_type\": \"\",\n        \"description\": \"\"\n      }\n    },\n    {\n      \"column\": \"smoke\",\n      \"properties\": {\n        \"dtype\": \"number\",\n        \"std\": 24748.66806700679,\n        \"min\": 0.0,\n        \"max\": 70000.0,\n        \"num_unique_values\": 5,\n        \"samples\": [\n          0.08812857142857143,\n          1.0,\n          0.28348381676993517\n        ],\n        \"semantic_type\": \"\",\n        \"description\": \"\"\n      }\n    },\n    {\n      \"column\": \"alco\",\n      \"properties\": {\n        \"dtype\": \"number\",\n        \"std\": 24748.6727275117,\n        \"min\": 0.0,\n        \"max\": 70000.0,\n        \"num_unique_values\": 5,\n        \"samples\": [\n          0.053771428571428574,\n          1.0,\n          0.22556770360410494\n        ],\n        \"semantic_type\": \"\",\n        \"description\": \"\"\n      }\n    },\n    {\n      \"column\": \"active\",\n      \"properties\": {\n        \"dtype\": \"number\",\n        \"std\": 24748.474658736734,\n        \"min\": 0.0,\n        \"max\": 70000.0,\n        \"num_unique_values\": 5,\n        \"samples\": [\n          0.8037285714285715,\n          1.0,\n          0.39717906350492826\n        ],\n        \"semantic_type\": \"\",\n        \"description\": \"\"\n      }\n    },\n    {\n      \"column\": \"cardio\",\n      \"properties\": {\n        \"dtype\": \"number\",\n        \"std\": 24748.585837128438,\n        \"min\": 0.0,\n        \"max\": 70000.0,\n        \"num_unique_values\": 5,\n        \"samples\": [\n          0.4997,\n          1.0,\n          0.5000034814661862\n        ],\n        \"semantic_type\": \"\",\n        \"description\": \"\"\n      }\n    }\n  ]\n}",
              "type": "dataframe"
            },
            "text/html": [
              "\n",
              "  <div id=\"df-2838a23b-227b-420b-9f79-70403a2afa28\" class=\"colab-df-container\">\n",
              "    <div>\n",
              "<style scoped>\n",
              "    .dataframe tbody tr th:only-of-type {\n",
              "        vertical-align: middle;\n",
              "    }\n",
              "\n",
              "    .dataframe tbody tr th {\n",
              "        vertical-align: top;\n",
              "    }\n",
              "\n",
              "    .dataframe thead th {\n",
              "        text-align: right;\n",
              "    }\n",
              "</style>\n",
              "<table border=\"1\" class=\"dataframe\">\n",
              "  <thead>\n",
              "    <tr style=\"text-align: right;\">\n",
              "      <th></th>\n",
              "      <th>id</th>\n",
              "      <th>age</th>\n",
              "      <th>gender</th>\n",
              "      <th>height</th>\n",
              "      <th>weight</th>\n",
              "      <th>ap_hi</th>\n",
              "      <th>ap_lo</th>\n",
              "      <th>cholesterol</th>\n",
              "      <th>gluc</th>\n",
              "      <th>smoke</th>\n",
              "      <th>alco</th>\n",
              "      <th>active</th>\n",
              "      <th>cardio</th>\n",
              "    </tr>\n",
              "  </thead>\n",
              "  <tbody>\n",
              "    <tr>\n",
              "      <th>count</th>\n",
              "      <td>70000.000000</td>\n",
              "      <td>70000.000000</td>\n",
              "      <td>70000.000000</td>\n",
              "      <td>70000.000000</td>\n",
              "      <td>70000.000000</td>\n",
              "      <td>70000.000000</td>\n",
              "      <td>70000.000000</td>\n",
              "      <td>70000.000000</td>\n",
              "      <td>70000.000000</td>\n",
              "      <td>70000.000000</td>\n",
              "      <td>70000.000000</td>\n",
              "      <td>70000.000000</td>\n",
              "      <td>70000.000000</td>\n",
              "    </tr>\n",
              "    <tr>\n",
              "      <th>mean</th>\n",
              "      <td>49972.419900</td>\n",
              "      <td>19468.865814</td>\n",
              "      <td>1.349571</td>\n",
              "      <td>164.359229</td>\n",
              "      <td>74.205690</td>\n",
              "      <td>128.817286</td>\n",
              "      <td>96.630414</td>\n",
              "      <td>1.366871</td>\n",
              "      <td>1.226457</td>\n",
              "      <td>0.088129</td>\n",
              "      <td>0.053771</td>\n",
              "      <td>0.803729</td>\n",
              "      <td>0.499700</td>\n",
              "    </tr>\n",
              "    <tr>\n",
              "      <th>std</th>\n",
              "      <td>28851.302323</td>\n",
              "      <td>2467.251667</td>\n",
              "      <td>0.476838</td>\n",
              "      <td>8.210126</td>\n",
              "      <td>14.395757</td>\n",
              "      <td>154.011419</td>\n",
              "      <td>188.472530</td>\n",
              "      <td>0.680250</td>\n",
              "      <td>0.572270</td>\n",
              "      <td>0.283484</td>\n",
              "      <td>0.225568</td>\n",
              "      <td>0.397179</td>\n",
              "      <td>0.500003</td>\n",
              "    </tr>\n",
              "    <tr>\n",
              "      <th>min</th>\n",
              "      <td>0.000000</td>\n",
              "      <td>10798.000000</td>\n",
              "      <td>1.000000</td>\n",
              "      <td>55.000000</td>\n",
              "      <td>10.000000</td>\n",
              "      <td>-150.000000</td>\n",
              "      <td>-70.000000</td>\n",
              "      <td>1.000000</td>\n",
              "      <td>1.000000</td>\n",
              "      <td>0.000000</td>\n",
              "      <td>0.000000</td>\n",
              "      <td>0.000000</td>\n",
              "      <td>0.000000</td>\n",
              "    </tr>\n",
              "    <tr>\n",
              "      <th>25%</th>\n",
              "      <td>25006.750000</td>\n",
              "      <td>17664.000000</td>\n",
              "      <td>1.000000</td>\n",
              "      <td>159.000000</td>\n",
              "      <td>65.000000</td>\n",
              "      <td>120.000000</td>\n",
              "      <td>80.000000</td>\n",
              "      <td>1.000000</td>\n",
              "      <td>1.000000</td>\n",
              "      <td>0.000000</td>\n",
              "      <td>0.000000</td>\n",
              "      <td>1.000000</td>\n",
              "      <td>0.000000</td>\n",
              "    </tr>\n",
              "    <tr>\n",
              "      <th>50%</th>\n",
              "      <td>50001.500000</td>\n",
              "      <td>19703.000000</td>\n",
              "      <td>1.000000</td>\n",
              "      <td>165.000000</td>\n",
              "      <td>72.000000</td>\n",
              "      <td>120.000000</td>\n",
              "      <td>80.000000</td>\n",
              "      <td>1.000000</td>\n",
              "      <td>1.000000</td>\n",
              "      <td>0.000000</td>\n",
              "      <td>0.000000</td>\n",
              "      <td>1.000000</td>\n",
              "      <td>0.000000</td>\n",
              "    </tr>\n",
              "    <tr>\n",
              "      <th>75%</th>\n",
              "      <td>74889.250000</td>\n",
              "      <td>21327.000000</td>\n",
              "      <td>2.000000</td>\n",
              "      <td>170.000000</td>\n",
              "      <td>82.000000</td>\n",
              "      <td>140.000000</td>\n",
              "      <td>90.000000</td>\n",
              "      <td>2.000000</td>\n",
              "      <td>1.000000</td>\n",
              "      <td>0.000000</td>\n",
              "      <td>0.000000</td>\n",
              "      <td>1.000000</td>\n",
              "      <td>1.000000</td>\n",
              "    </tr>\n",
              "    <tr>\n",
              "      <th>max</th>\n",
              "      <td>99999.000000</td>\n",
              "      <td>23713.000000</td>\n",
              "      <td>2.000000</td>\n",
              "      <td>250.000000</td>\n",
              "      <td>200.000000</td>\n",
              "      <td>16020.000000</td>\n",
              "      <td>11000.000000</td>\n",
              "      <td>3.000000</td>\n",
              "      <td>3.000000</td>\n",
              "      <td>1.000000</td>\n",
              "      <td>1.000000</td>\n",
              "      <td>1.000000</td>\n",
              "      <td>1.000000</td>\n",
              "    </tr>\n",
              "  </tbody>\n",
              "</table>\n",
              "</div>\n",
              "    <div class=\"colab-df-buttons\">\n",
              "\n",
              "  <div class=\"colab-df-container\">\n",
              "    <button class=\"colab-df-convert\" onclick=\"convertToInteractive('df-2838a23b-227b-420b-9f79-70403a2afa28')\"\n",
              "            title=\"Convert this dataframe to an interactive table.\"\n",
              "            style=\"display:none;\">\n",
              "\n",
              "  <svg xmlns=\"http://www.w3.org/2000/svg\" height=\"24px\" viewBox=\"0 -960 960 960\">\n",
              "    <path d=\"M120-120v-720h720v720H120Zm60-500h600v-160H180v160Zm220 220h160v-160H400v160Zm0 220h160v-160H400v160ZM180-400h160v-160H180v160Zm440 0h160v-160H620v160ZM180-180h160v-160H180v160Zm440 0h160v-160H620v160Z\"/>\n",
              "  </svg>\n",
              "    </button>\n",
              "\n",
              "  <style>\n",
              "    .colab-df-container {\n",
              "      display:flex;\n",
              "      gap: 12px;\n",
              "    }\n",
              "\n",
              "    .colab-df-convert {\n",
              "      background-color: #E8F0FE;\n",
              "      border: none;\n",
              "      border-radius: 50%;\n",
              "      cursor: pointer;\n",
              "      display: none;\n",
              "      fill: #1967D2;\n",
              "      height: 32px;\n",
              "      padding: 0 0 0 0;\n",
              "      width: 32px;\n",
              "    }\n",
              "\n",
              "    .colab-df-convert:hover {\n",
              "      background-color: #E2EBFA;\n",
              "      box-shadow: 0px 1px 2px rgba(60, 64, 67, 0.3), 0px 1px 3px 1px rgba(60, 64, 67, 0.15);\n",
              "      fill: #174EA6;\n",
              "    }\n",
              "\n",
              "    .colab-df-buttons div {\n",
              "      margin-bottom: 4px;\n",
              "    }\n",
              "\n",
              "    [theme=dark] .colab-df-convert {\n",
              "      background-color: #3B4455;\n",
              "      fill: #D2E3FC;\n",
              "    }\n",
              "\n",
              "    [theme=dark] .colab-df-convert:hover {\n",
              "      background-color: #434B5C;\n",
              "      box-shadow: 0px 1px 3px 1px rgba(0, 0, 0, 0.15);\n",
              "      filter: drop-shadow(0px 1px 2px rgba(0, 0, 0, 0.3));\n",
              "      fill: #FFFFFF;\n",
              "    }\n",
              "  </style>\n",
              "\n",
              "    <script>\n",
              "      const buttonEl =\n",
              "        document.querySelector('#df-2838a23b-227b-420b-9f79-70403a2afa28 button.colab-df-convert');\n",
              "      buttonEl.style.display =\n",
              "        google.colab.kernel.accessAllowed ? 'block' : 'none';\n",
              "\n",
              "      async function convertToInteractive(key) {\n",
              "        const element = document.querySelector('#df-2838a23b-227b-420b-9f79-70403a2afa28');\n",
              "        const dataTable =\n",
              "          await google.colab.kernel.invokeFunction('convertToInteractive',\n",
              "                                                    [key], {});\n",
              "        if (!dataTable) return;\n",
              "\n",
              "        const docLinkHtml = 'Like what you see? Visit the ' +\n",
              "          '<a target=\"_blank\" href=https://colab.research.google.com/notebooks/data_table.ipynb>data table notebook</a>'\n",
              "          + ' to learn more about interactive tables.';\n",
              "        element.innerHTML = '';\n",
              "        dataTable['output_type'] = 'display_data';\n",
              "        await google.colab.output.renderOutput(dataTable, element);\n",
              "        const docLink = document.createElement('div');\n",
              "        docLink.innerHTML = docLinkHtml;\n",
              "        element.appendChild(docLink);\n",
              "      }\n",
              "    </script>\n",
              "  </div>\n",
              "\n",
              "\n",
              "<div id=\"df-ac6182bd-66c6-409c-8d5f-3df51b8a5e3c\">\n",
              "  <button class=\"colab-df-quickchart\" onclick=\"quickchart('df-ac6182bd-66c6-409c-8d5f-3df51b8a5e3c')\"\n",
              "            title=\"Suggest charts\"\n",
              "            style=\"display:none;\">\n",
              "\n",
              "<svg xmlns=\"http://www.w3.org/2000/svg\" height=\"24px\"viewBox=\"0 0 24 24\"\n",
              "     width=\"24px\">\n",
              "    <g>\n",
              "        <path d=\"M19 3H5c-1.1 0-2 .9-2 2v14c0 1.1.9 2 2 2h14c1.1 0 2-.9 2-2V5c0-1.1-.9-2-2-2zM9 17H7v-7h2v7zm4 0h-2V7h2v10zm4 0h-2v-4h2v4z\"/>\n",
              "    </g>\n",
              "</svg>\n",
              "  </button>\n",
              "\n",
              "<style>\n",
              "  .colab-df-quickchart {\n",
              "      --bg-color: #E8F0FE;\n",
              "      --fill-color: #1967D2;\n",
              "      --hover-bg-color: #E2EBFA;\n",
              "      --hover-fill-color: #174EA6;\n",
              "      --disabled-fill-color: #AAA;\n",
              "      --disabled-bg-color: #DDD;\n",
              "  }\n",
              "\n",
              "  [theme=dark] .colab-df-quickchart {\n",
              "      --bg-color: #3B4455;\n",
              "      --fill-color: #D2E3FC;\n",
              "      --hover-bg-color: #434B5C;\n",
              "      --hover-fill-color: #FFFFFF;\n",
              "      --disabled-bg-color: #3B4455;\n",
              "      --disabled-fill-color: #666;\n",
              "  }\n",
              "\n",
              "  .colab-df-quickchart {\n",
              "    background-color: var(--bg-color);\n",
              "    border: none;\n",
              "    border-radius: 50%;\n",
              "    cursor: pointer;\n",
              "    display: none;\n",
              "    fill: var(--fill-color);\n",
              "    height: 32px;\n",
              "    padding: 0;\n",
              "    width: 32px;\n",
              "  }\n",
              "\n",
              "  .colab-df-quickchart:hover {\n",
              "    background-color: var(--hover-bg-color);\n",
              "    box-shadow: 0 1px 2px rgba(60, 64, 67, 0.3), 0 1px 3px 1px rgba(60, 64, 67, 0.15);\n",
              "    fill: var(--button-hover-fill-color);\n",
              "  }\n",
              "\n",
              "  .colab-df-quickchart-complete:disabled,\n",
              "  .colab-df-quickchart-complete:disabled:hover {\n",
              "    background-color: var(--disabled-bg-color);\n",
              "    fill: var(--disabled-fill-color);\n",
              "    box-shadow: none;\n",
              "  }\n",
              "\n",
              "  .colab-df-spinner {\n",
              "    border: 2px solid var(--fill-color);\n",
              "    border-color: transparent;\n",
              "    border-bottom-color: var(--fill-color);\n",
              "    animation:\n",
              "      spin 1s steps(1) infinite;\n",
              "  }\n",
              "\n",
              "  @keyframes spin {\n",
              "    0% {\n",
              "      border-color: transparent;\n",
              "      border-bottom-color: var(--fill-color);\n",
              "      border-left-color: var(--fill-color);\n",
              "    }\n",
              "    20% {\n",
              "      border-color: transparent;\n",
              "      border-left-color: var(--fill-color);\n",
              "      border-top-color: var(--fill-color);\n",
              "    }\n",
              "    30% {\n",
              "      border-color: transparent;\n",
              "      border-left-color: var(--fill-color);\n",
              "      border-top-color: var(--fill-color);\n",
              "      border-right-color: var(--fill-color);\n",
              "    }\n",
              "    40% {\n",
              "      border-color: transparent;\n",
              "      border-right-color: var(--fill-color);\n",
              "      border-top-color: var(--fill-color);\n",
              "    }\n",
              "    60% {\n",
              "      border-color: transparent;\n",
              "      border-right-color: var(--fill-color);\n",
              "    }\n",
              "    80% {\n",
              "      border-color: transparent;\n",
              "      border-right-color: var(--fill-color);\n",
              "      border-bottom-color: var(--fill-color);\n",
              "    }\n",
              "    90% {\n",
              "      border-color: transparent;\n",
              "      border-bottom-color: var(--fill-color);\n",
              "    }\n",
              "  }\n",
              "</style>\n",
              "\n",
              "  <script>\n",
              "    async function quickchart(key) {\n",
              "      const quickchartButtonEl =\n",
              "        document.querySelector('#' + key + ' button');\n",
              "      quickchartButtonEl.disabled = true;  // To prevent multiple clicks.\n",
              "      quickchartButtonEl.classList.add('colab-df-spinner');\n",
              "      try {\n",
              "        const charts = await google.colab.kernel.invokeFunction(\n",
              "            'suggestCharts', [key], {});\n",
              "      } catch (error) {\n",
              "        console.error('Error during call to suggestCharts:', error);\n",
              "      }\n",
              "      quickchartButtonEl.classList.remove('colab-df-spinner');\n",
              "      quickchartButtonEl.classList.add('colab-df-quickchart-complete');\n",
              "    }\n",
              "    (() => {\n",
              "      let quickchartButtonEl =\n",
              "        document.querySelector('#df-ac6182bd-66c6-409c-8d5f-3df51b8a5e3c button');\n",
              "      quickchartButtonEl.style.display =\n",
              "        google.colab.kernel.accessAllowed ? 'block' : 'none';\n",
              "    })();\n",
              "  </script>\n",
              "</div>\n",
              "\n",
              "    </div>\n",
              "  </div>\n"
            ],
            "text/plain": [
              "                 id           age        gender        height        weight  \\\n",
              "count  70000.000000  70000.000000  70000.000000  70000.000000  70000.000000   \n",
              "mean   49972.419900  19468.865814      1.349571    164.359229     74.205690   \n",
              "std    28851.302323   2467.251667      0.476838      8.210126     14.395757   \n",
              "min        0.000000  10798.000000      1.000000     55.000000     10.000000   \n",
              "25%    25006.750000  17664.000000      1.000000    159.000000     65.000000   \n",
              "50%    50001.500000  19703.000000      1.000000    165.000000     72.000000   \n",
              "75%    74889.250000  21327.000000      2.000000    170.000000     82.000000   \n",
              "max    99999.000000  23713.000000      2.000000    250.000000    200.000000   \n",
              "\n",
              "              ap_hi         ap_lo   cholesterol          gluc         smoke  \\\n",
              "count  70000.000000  70000.000000  70000.000000  70000.000000  70000.000000   \n",
              "mean     128.817286     96.630414      1.366871      1.226457      0.088129   \n",
              "std      154.011419    188.472530      0.680250      0.572270      0.283484   \n",
              "min     -150.000000    -70.000000      1.000000      1.000000      0.000000   \n",
              "25%      120.000000     80.000000      1.000000      1.000000      0.000000   \n",
              "50%      120.000000     80.000000      1.000000      1.000000      0.000000   \n",
              "75%      140.000000     90.000000      2.000000      1.000000      0.000000   \n",
              "max    16020.000000  11000.000000      3.000000      3.000000      1.000000   \n",
              "\n",
              "               alco        active        cardio  \n",
              "count  70000.000000  70000.000000  70000.000000  \n",
              "mean       0.053771      0.803729      0.499700  \n",
              "std        0.225568      0.397179      0.500003  \n",
              "min        0.000000      0.000000      0.000000  \n",
              "25%        0.000000      1.000000      0.000000  \n",
              "50%        0.000000      1.000000      0.000000  \n",
              "75%        0.000000      1.000000      1.000000  \n",
              "max        1.000000      1.000000      1.000000  "
            ]
          },
          "execution_count": 2,
          "metadata": {},
          "output_type": "execute_result"
        }
      ],
      "source": [
        "import pandas as pd\n",
        "# Load the dataset\n",
        "df = pd.read_csv('/content/cardio_train.csv', delimiter=';')\n",
        "df.head()\n",
        "df.info()\n",
        "df.describe()"
      ]
    },
    {
      "cell_type": "code",
      "execution_count": null,
      "metadata": {
        "id": "X6tE8upuCj6c"
      },
      "outputs": [],
      "source": [
        "from sklearn.model_selection import train_test_split"
      ]
    },
    {
      "cell_type": "code",
      "execution_count": null,
      "metadata": {
        "id": "ngGhBjE6Cj9e"
      },
      "outputs": [],
      "source": [
        "# Define privileged and unprivileged groups based on 'gender'\n",
        "privileged_groups = [{'smoke': 0}]  # 1 represents the privileged group\n",
        "unprivileged_groups = [{'smoke': 1}]  # 2 represents the unprivileged group"
      ]
    },
    {
      "cell_type": "code",
      "execution_count": null,
      "metadata": {
        "id": "VOurGLq7CkFV"
      },
      "outputs": [],
      "source": [
        "# df_train will contain 70% of the data, and df_test will contain 30%\n",
        "df_train, df_test = train_test_split(df, test_size=0.3, random_state=42)"
      ]
    },
    {
      "cell_type": "code",
      "execution_count": null,
      "metadata": {
        "colab": {
          "base_uri": "https://localhost:8080/",
          "height": 264
        },
        "id": "LxQjEZ-qCkH-",
        "outputId": "b29a0606-6417-4600-b3b3-91f01eeaac10"
      },
      "outputs": [
        {
          "data": {
            "text/markdown": "#### Training Dataset shape",
            "text/plain": [
              "<IPython.core.display.Markdown object>"
            ]
          },
          "metadata": {},
          "output_type": "display_data"
        },
        {
          "name": "stdout",
          "output_type": "stream",
          "text": [
            "(49000, 13)\n"
          ]
        },
        {
          "data": {
            "text/markdown": "#### Protected attribute names",
            "text/plain": [
              "<IPython.core.display.Markdown object>"
            ]
          },
          "metadata": {},
          "output_type": "display_data"
        },
        {
          "name": "stdout",
          "output_type": "stream",
          "text": [
            "smoke\n"
          ]
        },
        {
          "data": {
            "text/markdown": "#### Privileged and unprivileged protected attribute values",
            "text/plain": [
              "<IPython.core.display.Markdown object>"
            ]
          },
          "metadata": {},
          "output_type": "display_data"
        },
        {
          "name": "stdout",
          "output_type": "stream",
          "text": [
            "Privileged: [{'smoke': 0}]\n",
            "Unprivileged: [{'smoke': 1}]\n"
          ]
        },
        {
          "data": {
            "text/markdown": "#### Dataset feature names",
            "text/plain": [
              "<IPython.core.display.Markdown object>"
            ]
          },
          "metadata": {},
          "output_type": "display_data"
        },
        {
          "name": "stdout",
          "output_type": "stream",
          "text": [
            "['id', 'age', 'gender', 'height', 'weight', 'ap_hi', 'ap_lo', 'cholesterol', 'gluc', 'alco', 'active']\n"
          ]
        }
      ],
      "source": [
        "from IPython.display import display, Markdown\n",
        "\n",
        "# Assuming df_train and df_test are already defined and used in your project\n",
        "\n",
        "# Print out the shape of the training dataset\n",
        "display(Markdown(\"#### Training Dataset shape\"))\n",
        "print(df_train.shape)\n",
        "\n",
        "# Assuming 'gender' is your protected attribute\n",
        "protected_attribute = 'smoke'\n",
        "\n",
        "# Print out the protected attribute names\n",
        "display(Markdown(\"#### Protected attribute names\"))\n",
        "print(protected_attribute)\n",
        "\n",
        "#display group\n",
        "\n",
        "display(Markdown(\"#### Privileged and unprivileged protected attribute values\"))\n",
        "print(\"Privileged:\", privileged_groups)\n",
        "print(\"Unprivileged:\", unprivileged_groups)\n",
        "\n",
        "# Print out the dataset feature names excluding the protected attribute and labels\n",
        "display(Markdown(\"#### Dataset feature names\"))\n",
        "features_list = df_train.columns.tolist()\n",
        "features_list.remove(protected_attribute)  # Remove protected attribute from feature list\n",
        "features_list.remove('cardio')  # Remove labels from feature list\n",
        "print(features_list)\n"
      ]
    },
    {
      "cell_type": "code",
      "execution_count": null,
      "metadata": {
        "id": "4WIuHTAJCkN1"
      },
      "outputs": [],
      "source": [
        "#cardio is the label column (1 for positive outcome, 0 for negative outcome)\n",
        "favorable_label = 1  # Define the favorable label\n",
        "unfavorable_label = 0  # Define the unfavorable label"
      ]
    },
    {
      "cell_type": "code",
      "execution_count": null,
      "metadata": {
        "id": "pjZc8x6QCkRQ"
      },
      "outputs": [],
      "source": [
        "# Convert the DataFrame into a BinaryLabelDataset\n",
        "df_train = BinaryLabelDataset(df=df_train, label_names=['cardio'],\n",
        "                                        favorable_label=favorable_label,\n",
        "                                        unfavorable_label=unfavorable_label,\n",
        "                                        protected_attribute_names=['smoke'],\n",
        "                                        privileged_protected_attributes=[[0]],  # Assuming 1 is the privileged group for gender\n",
        "                                        unprivileged_protected_attributes=[[1]])  # Assuming 2 is the unprivileged group for gender"
      ]
    },
    {
      "cell_type": "code",
      "execution_count": null,
      "metadata": {
        "colab": {
          "base_uri": "https://localhost:8080/",
          "height": 74
        },
        "id": "cDKqIQyPDIpV",
        "outputId": "675d6657-81d1-400c-f918-af172d1fc49c"
      },
      "outputs": [
        {
          "data": {
            "text/markdown": "#### Original training dataset",
            "text/plain": [
              "<IPython.core.display.Markdown object>"
            ]
          },
          "metadata": {},
          "output_type": "display_data"
        },
        {
          "name": "stdout",
          "output_type": "stream",
          "text": [
            "Train set: Difference in mean outcomes between unprivileged and privileged groups = -0.029137\n"
          ]
        }
      ],
      "source": [
        "# Metric for the original training dataset\n",
        "metric_train = BinaryLabelDatasetMetric(df_train,\n",
        "                                             unprivileged_groups=unprivileged_groups,\n",
        "                                             privileged_groups=privileged_groups)\n",
        "display(Markdown(\"#### Original training dataset\"))\n",
        "print(\"Train set: Difference in mean outcomes between unprivileged and privileged groups = %f\" % metric_train.mean_difference())"
      ]
    },
    {
      "cell_type": "code",
      "execution_count": null,
      "metadata": {
        "colab": {
          "base_uri": "https://localhost:8080/",
          "height": 74
        },
        "id": "ngkYn2VIDM3d",
        "outputId": "b6e123f5-798a-4b15-9e6f-7fd2c2fce428"
      },
      "outputs": [
        {
          "data": {
            "text/markdown": "#### Original test dataset",
            "text/plain": [
              "<IPython.core.display.Markdown object>"
            ]
          },
          "metadata": {},
          "output_type": "display_data"
        },
        {
          "name": "stdout",
          "output_type": "stream",
          "text": [
            "Test set: Difference in mean outcomes between unprivileged and privileged groups = -0.022774\n"
          ]
        }
      ],
      "source": [
        "# Convert the DataFrame into a BinaryLabelDataset for the test dataset\n",
        "df_test = BinaryLabelDataset(df=df_test, label_names=['cardio'],\n",
        "                                       favorable_label=favorable_label,\n",
        "                                       unfavorable_label=unfavorable_label,\n",
        "                                       protected_attribute_names=['smoke'],\n",
        "                                       privileged_protected_attributes=[[0]],  # Assuming 1 is the privileged group for gender\n",
        "                                       unprivileged_protected_attributes=[[1]])  # Assuming 2 is the unprivileged group for gender\n",
        "\n",
        "\n",
        "# Metric for the original test dataset\n",
        "metric_test = BinaryLabelDatasetMetric(df_test,\n",
        "                                       unprivileged_groups=unprivileged_groups,\n",
        "                                       privileged_groups=privileged_groups)\n",
        "display(Markdown(\"#### Original test dataset\"))\n",
        "print(\"Test set: Difference in mean outcomes between unprivileged and privileged groups = %f\" % metric_test.mean_difference())"
      ]
    },
    {
      "cell_type": "code",
      "execution_count": null,
      "metadata": {
        "colab": {
          "base_uri": "https://localhost:8080/",
          "height": 92
        },
        "id": "NQNxz_RXDTY0",
        "outputId": "443591c9-08d5-444e-b61a-68747b347703"
      },
      "outputs": [
        {
          "data": {
            "text/markdown": "#### Scaled dataset - Verify that the scaling does not affect the group label statistics",
            "text/plain": [
              "<IPython.core.display.Markdown object>"
            ]
          },
          "metadata": {},
          "output_type": "display_data"
        },
        {
          "name": "stdout",
          "output_type": "stream",
          "text": [
            "Train set: Difference in mean outcomes between unprivileged and privileged groups = -0.029137\n",
            "Test set: Difference in mean outcomes between unprivileged and privileged groups = -0.022774\n"
          ]
        }
      ],
      "source": [
        "# Scale the features of the training dataset\n",
        "min_max_scaler = MaxAbsScaler()\n",
        "df_train.features = min_max_scaler.fit_transform(df_train.features)\n",
        "\n",
        "# Scale the features of the test dataset using the same scaler as the training dataset\n",
        "df_test.features = min_max_scaler.transform(df_test.features)\n",
        "\n",
        "# Compute fairness metrics for the scaled training dataset\n",
        "metric_scaled_train = BinaryLabelDatasetMetric(df_train,\n",
        "                                               unprivileged_groups=unprivileged_groups,\n",
        "                                               privileged_groups=privileged_groups)\n",
        "\n",
        "# Display fairness metrics for the scaled training dataset\n",
        "display(Markdown(\"#### Scaled dataset - Verify that the scaling does not affect the group label statistics\"))\n",
        "print(\"Train set: Difference in mean outcomes between unprivileged and privileged groups = %f\" % metric_scaled_train.mean_difference())\n",
        "\n",
        "# Compute fairness metrics for the scaled test dataset\n",
        "metric_scaled_test = BinaryLabelDatasetMetric(df_test,\n",
        "                                              unprivileged_groups=unprivileged_groups,\n",
        "                                              privileged_groups=privileged_groups)\n",
        "\n",
        "# Display fairness metrics for the scaled test dataset\n",
        "print(\"Test set: Difference in mean outcomes between unprivileged and privileged groups = %f\" % metric_scaled_test.mean_difference())\n"
      ]
    },
    {
      "cell_type": "code",
      "execution_count": null,
      "metadata": {
        "id": "j59jbLd_Da9k"
      },
      "outputs": [],
      "source": [
        "# Load post-processing algorithm that equalizes the odds\n",
        "# Learn parameters with debias set to False\n",
        "sess = tf.Session()\n",
        "plain_model = AdversarialDebiasing(privileged_groups = privileged_groups,\n",
        "                          unprivileged_groups = unprivileged_groups,\n",
        "                          scope_name='plain_classifier',\n",
        "                          debias=False,\n",
        "                          sess=sess)"
      ]
    },
    {
      "cell_type": "code",
      "execution_count": null,
      "metadata": {
        "colab": {
          "base_uri": "https://localhost:8080/"
        },
        "id": "xtXOqLL3Dea8",
        "outputId": "120f5aca-9acf-4fd1-b6ec-44c5eb48ee24"
      },
      "outputs": [
        {
          "name": "stderr",
          "output_type": "stream",
          "text": [
            "WARNING:tensorflow:From /usr/local/lib/python3.10/dist-packages/tensorflow/python/util/dispatch.py:1260: calling dropout (from tensorflow.python.ops.nn_ops) with keep_prob is deprecated and will be removed in a future version.\n",
            "Instructions for updating:\n",
            "Please use `rate` instead of `keep_prob`. Rate should be set to `rate = 1 - keep_prob`.\n"
          ]
        },
        {
          "name": "stdout",
          "output_type": "stream",
          "text": [
            "epoch 0; iter: 0; batch classifier loss: 0.701154\n",
            "epoch 0; iter: 200; batch classifier loss: 0.655666\n",
            "epoch 1; iter: 0; batch classifier loss: 0.682843\n",
            "epoch 1; iter: 200; batch classifier loss: 0.660309\n",
            "epoch 2; iter: 0; batch classifier loss: 0.663490\n",
            "epoch 2; iter: 200; batch classifier loss: 0.636578\n",
            "epoch 3; iter: 0; batch classifier loss: 0.666162\n",
            "epoch 3; iter: 200; batch classifier loss: 0.586736\n",
            "epoch 4; iter: 0; batch classifier loss: 0.630828\n",
            "epoch 4; iter: 200; batch classifier loss: 0.614594\n",
            "epoch 5; iter: 0; batch classifier loss: 0.631766\n",
            "epoch 5; iter: 200; batch classifier loss: 0.677439\n",
            "epoch 6; iter: 0; batch classifier loss: 0.593300\n",
            "epoch 6; iter: 200; batch classifier loss: 0.664535\n",
            "epoch 7; iter: 0; batch classifier loss: 0.580903\n",
            "epoch 7; iter: 200; batch classifier loss: 0.673332\n",
            "epoch 8; iter: 0; batch classifier loss: 0.602396\n",
            "epoch 8; iter: 200; batch classifier loss: 0.602261\n",
            "epoch 9; iter: 0; batch classifier loss: 0.617314\n",
            "epoch 9; iter: 200; batch classifier loss: 0.624191\n",
            "epoch 10; iter: 0; batch classifier loss: 0.624816\n",
            "epoch 10; iter: 200; batch classifier loss: 0.628007\n",
            "epoch 11; iter: 0; batch classifier loss: 0.640845\n",
            "epoch 11; iter: 200; batch classifier loss: 0.587147\n",
            "epoch 12; iter: 0; batch classifier loss: 0.613174\n",
            "epoch 12; iter: 200; batch classifier loss: 0.589081\n",
            "epoch 13; iter: 0; batch classifier loss: 0.619423\n",
            "epoch 13; iter: 200; batch classifier loss: 0.657107\n",
            "epoch 14; iter: 0; batch classifier loss: 0.643982\n",
            "epoch 14; iter: 200; batch classifier loss: 0.620825\n",
            "epoch 15; iter: 0; batch classifier loss: 0.634788\n",
            "epoch 15; iter: 200; batch classifier loss: 0.650825\n",
            "epoch 16; iter: 0; batch classifier loss: 0.699988\n",
            "epoch 16; iter: 200; batch classifier loss: 0.584246\n",
            "epoch 17; iter: 0; batch classifier loss: 0.578690\n",
            "epoch 17; iter: 200; batch classifier loss: 0.601535\n",
            "epoch 18; iter: 0; batch classifier loss: 0.632112\n",
            "epoch 18; iter: 200; batch classifier loss: 0.601445\n",
            "epoch 19; iter: 0; batch classifier loss: 0.619242\n",
            "epoch 19; iter: 200; batch classifier loss: 0.656590\n",
            "epoch 20; iter: 0; batch classifier loss: 0.621785\n",
            "epoch 20; iter: 200; batch classifier loss: 0.629792\n",
            "epoch 21; iter: 0; batch classifier loss: 0.661784\n",
            "epoch 21; iter: 200; batch classifier loss: 0.672286\n",
            "epoch 22; iter: 0; batch classifier loss: 0.620171\n",
            "epoch 22; iter: 200; batch classifier loss: 0.639581\n",
            "epoch 23; iter: 0; batch classifier loss: 0.586278\n",
            "epoch 23; iter: 200; batch classifier loss: 0.635671\n",
            "epoch 24; iter: 0; batch classifier loss: 0.632429\n",
            "epoch 24; iter: 200; batch classifier loss: 0.651426\n",
            "epoch 25; iter: 0; batch classifier loss: 0.639764\n",
            "epoch 25; iter: 200; batch classifier loss: 0.590958\n",
            "epoch 26; iter: 0; batch classifier loss: 0.634316\n",
            "epoch 26; iter: 200; batch classifier loss: 0.590828\n",
            "epoch 27; iter: 0; batch classifier loss: 0.588269\n",
            "epoch 27; iter: 200; batch classifier loss: 0.572610\n",
            "epoch 28; iter: 0; batch classifier loss: 0.610825\n",
            "epoch 28; iter: 200; batch classifier loss: 0.635314\n",
            "epoch 29; iter: 0; batch classifier loss: 0.586289\n",
            "epoch 29; iter: 200; batch classifier loss: 0.646446\n",
            "epoch 30; iter: 0; batch classifier loss: 0.601792\n",
            "epoch 30; iter: 200; batch classifier loss: 0.677081\n",
            "epoch 31; iter: 0; batch classifier loss: 0.599242\n",
            "epoch 31; iter: 200; batch classifier loss: 0.607831\n",
            "epoch 32; iter: 0; batch classifier loss: 0.575203\n",
            "epoch 32; iter: 200; batch classifier loss: 0.592282\n",
            "epoch 33; iter: 0; batch classifier loss: 0.603280\n",
            "epoch 33; iter: 200; batch classifier loss: 0.573330\n",
            "epoch 34; iter: 0; batch classifier loss: 0.580738\n",
            "epoch 34; iter: 200; batch classifier loss: 0.560174\n",
            "epoch 35; iter: 0; batch classifier loss: 0.581366\n",
            "epoch 35; iter: 200; batch classifier loss: 0.556010\n",
            "epoch 36; iter: 0; batch classifier loss: 0.579066\n",
            "epoch 36; iter: 200; batch classifier loss: 0.562195\n",
            "epoch 37; iter: 0; batch classifier loss: 0.566931\n",
            "epoch 37; iter: 200; batch classifier loss: 0.559017\n",
            "epoch 38; iter: 0; batch classifier loss: 0.623826\n",
            "epoch 38; iter: 200; batch classifier loss: 0.624318\n",
            "epoch 39; iter: 0; batch classifier loss: 0.545921\n",
            "epoch 39; iter: 200; batch classifier loss: 0.566614\n",
            "epoch 40; iter: 0; batch classifier loss: 0.587510\n",
            "epoch 40; iter: 200; batch classifier loss: 0.571704\n",
            "epoch 41; iter: 0; batch classifier loss: 0.589200\n",
            "epoch 41; iter: 200; batch classifier loss: 0.607256\n",
            "epoch 42; iter: 0; batch classifier loss: 0.548370\n",
            "epoch 42; iter: 200; batch classifier loss: 0.666009\n",
            "epoch 43; iter: 0; batch classifier loss: 0.597587\n",
            "epoch 43; iter: 200; batch classifier loss: 0.563967\n",
            "epoch 44; iter: 0; batch classifier loss: 0.601871\n",
            "epoch 44; iter: 200; batch classifier loss: 0.557751\n",
            "epoch 45; iter: 0; batch classifier loss: 0.605640\n",
            "epoch 45; iter: 200; batch classifier loss: 0.594824\n",
            "epoch 46; iter: 0; batch classifier loss: 0.613300\n",
            "epoch 46; iter: 200; batch classifier loss: 0.607691\n",
            "epoch 47; iter: 0; batch classifier loss: 0.577819\n",
            "epoch 47; iter: 200; batch classifier loss: 0.579521\n",
            "epoch 48; iter: 0; batch classifier loss: 0.613323\n",
            "epoch 48; iter: 200; batch classifier loss: 0.574310\n",
            "epoch 49; iter: 0; batch classifier loss: 0.575574\n",
            "epoch 49; iter: 200; batch classifier loss: 0.577456\n"
          ]
        },
        {
          "data": {
            "text/plain": [
              "<aif360.algorithms.inprocessing.adversarial_debiasing.AdversarialDebiasing at 0x780c084cf3d0>"
            ]
          },
          "execution_count": 13,
          "metadata": {},
          "output_type": "execute_result"
        }
      ],
      "source": [
        "plain_model.fit(df_train)"
      ]
    },
    {
      "cell_type": "code",
      "execution_count": null,
      "metadata": {
        "id": "QKZzwhsZDg-j"
      },
      "outputs": [],
      "source": [
        "# Apply the plain model to test data\n",
        "dataset_nodebiasing_train = plain_model.predict(df_train)\n",
        "dataset_nodebiasing_test = plain_model.predict(df_test)"
      ]
    },
    {
      "cell_type": "code",
      "execution_count": null,
      "metadata": {
        "colab": {
          "base_uri": "https://localhost:8080/",
          "height": 236
        },
        "id": "7kcbYd3mD1SD",
        "outputId": "bd4aa26f-44d8-4e22-ba61-294b1d784c5e"
      },
      "outputs": [
        {
          "data": {
            "text/markdown": "#### Plain model - without debiasing - dataset metrics",
            "text/plain": [
              "<IPython.core.display.Markdown object>"
            ]
          },
          "metadata": {},
          "output_type": "display_data"
        },
        {
          "name": "stdout",
          "output_type": "stream",
          "text": [
            "Train set: Difference in mean outcomes between unprivileged and privileged groups = -0.062625\n",
            "Test set: Difference in mean outcomes between unprivileged and privileged groups = -0.050994\n"
          ]
        },
        {
          "data": {
            "text/markdown": "#### Plain model - without debiasing - classification metrics",
            "text/plain": [
              "<IPython.core.display.Markdown object>"
            ]
          },
          "metadata": {},
          "output_type": "display_data"
        },
        {
          "name": "stdout",
          "output_type": "stream",
          "text": [
            "Test set: Classification accuracy = 0.715286\n",
            "Test set: Balanced classification accuracy = 0.715414\n",
            "Test set: Disparate impact = 0.891648\n",
            "Test set: Equal opportunity difference = -0.030241\n",
            "Test set: Average odds difference = -0.040829\n",
            "Test set: Theil_index = 0.215282\n"
          ]
        }
      ],
      "source": [
        "# Metrics for the dataset from plain model (without debiasing)\n",
        "display(Markdown(\"#### Plain model - without debiasing - dataset metrics\"))\n",
        "metric_dataset_nodebiasing_train = BinaryLabelDatasetMetric(dataset_nodebiasing_train,\n",
        "                                             unprivileged_groups=unprivileged_groups,\n",
        "                                             privileged_groups=privileged_groups)\n",
        "\n",
        "print(\"Train set: Difference in mean outcomes between unprivileged and privileged groups = %f\" % metric_dataset_nodebiasing_train.mean_difference())\n",
        "\n",
        "metric_dataset_nodebiasing_test = BinaryLabelDatasetMetric(dataset_nodebiasing_test,\n",
        "                                             unprivileged_groups=unprivileged_groups,\n",
        "                                             privileged_groups=privileged_groups)\n",
        "\n",
        "print(\"Test set: Difference in mean outcomes between unprivileged and privileged groups = %f\" % metric_dataset_nodebiasing_test.mean_difference())\n",
        "\n",
        "display(Markdown(\"#### Plain model - without debiasing - classification metrics\"))\n",
        "classified_metric_nodebiasing_test = ClassificationMetric(df_test,\n",
        "                                                 dataset_nodebiasing_test,\n",
        "                                                 unprivileged_groups=unprivileged_groups,\n",
        "                                                 privileged_groups=privileged_groups)\n",
        "print(\"Test set: Classification accuracy = %f\" % classified_metric_nodebiasing_test.accuracy())\n",
        "TPR = classified_metric_nodebiasing_test.true_positive_rate()\n",
        "TNR = classified_metric_nodebiasing_test.true_negative_rate()\n",
        "bal_acc_nodebiasing_test = 0.5*(TPR+TNR)\n",
        "print(\"Test set: Balanced classification accuracy = %f\" % bal_acc_nodebiasing_test)\n",
        "print(\"Test set: Disparate impact = %f\" % classified_metric_nodebiasing_test.disparate_impact())\n",
        "print(\"Test set: Equal opportunity difference = %f\" % classified_metric_nodebiasing_test.equal_opportunity_difference())\n",
        "print(\"Test set: Average odds difference = %f\" % classified_metric_nodebiasing_test.average_odds_difference())\n",
        "print(\"Test set: Theil_index = %f\" % classified_metric_nodebiasing_test.theil_index())"
      ]
    },
    {
      "cell_type": "code",
      "execution_count": null,
      "metadata": {
        "id": "S0sLlzycD4P0"
      },
      "outputs": [],
      "source": [
        "sess.close()\n",
        "tf.reset_default_graph()\n",
        "sess = tf.Session()"
      ]
    },
    {
      "cell_type": "code",
      "execution_count": null,
      "metadata": {
        "id": "GgeDurSDEEL7"
      },
      "outputs": [],
      "source": [
        "# Learn parameters with debias set to True\n",
        "debiased_model = AdversarialDebiasing(privileged_groups = privileged_groups,\n",
        "                          unprivileged_groups = unprivileged_groups,\n",
        "                          scope_name='debiased_classifier',\n",
        "                          debias=True,\n",
        "                          sess=sess)"
      ]
    },
    {
      "cell_type": "code",
      "execution_count": null,
      "metadata": {
        "colab": {
          "base_uri": "https://localhost:8080/"
        },
        "id": "lE8gYdelEG-K",
        "outputId": "d69e13ef-88c5-4434-dd35-6cb4aa84cddc"
      },
      "outputs": [
        {
          "name": "stdout",
          "output_type": "stream",
          "text": [
            "epoch 0; iter: 0; batch classifier loss: 0.719978; batch adversarial loss: 0.788920\n",
            "epoch 0; iter: 200; batch classifier loss: 0.730849; batch adversarial loss: 0.656090\n",
            "epoch 1; iter: 0; batch classifier loss: 0.672805; batch adversarial loss: 0.516109\n",
            "epoch 1; iter: 200; batch classifier loss: 0.683715; batch adversarial loss: 0.525950\n",
            "epoch 2; iter: 0; batch classifier loss: 0.681855; batch adversarial loss: 0.478214\n",
            "epoch 2; iter: 200; batch classifier loss: 0.729756; batch adversarial loss: 0.451281\n",
            "epoch 3; iter: 0; batch classifier loss: 0.667436; batch adversarial loss: 0.422848\n",
            "epoch 3; iter: 200; batch classifier loss: 0.666210; batch adversarial loss: 0.340638\n",
            "epoch 4; iter: 0; batch classifier loss: 0.682247; batch adversarial loss: 0.416395\n",
            "epoch 4; iter: 200; batch classifier loss: 0.655838; batch adversarial loss: 0.329212\n",
            "epoch 5; iter: 0; batch classifier loss: 0.659093; batch adversarial loss: 0.311794\n",
            "epoch 5; iter: 200; batch classifier loss: 0.645455; batch adversarial loss: 0.405446\n",
            "epoch 6; iter: 0; batch classifier loss: 0.684481; batch adversarial loss: 0.276907\n",
            "epoch 6; iter: 200; batch classifier loss: 0.660779; batch adversarial loss: 0.402769\n",
            "epoch 7; iter: 0; batch classifier loss: 0.610905; batch adversarial loss: 0.272687\n",
            "epoch 7; iter: 200; batch classifier loss: 0.604974; batch adversarial loss: 0.390648\n",
            "epoch 8; iter: 0; batch classifier loss: 0.667176; batch adversarial loss: 0.302374\n",
            "epoch 8; iter: 200; batch classifier loss: 0.641843; batch adversarial loss: 0.352291\n",
            "epoch 9; iter: 0; batch classifier loss: 0.614213; batch adversarial loss: 0.303507\n",
            "epoch 9; iter: 200; batch classifier loss: 0.673240; batch adversarial loss: 0.326398\n",
            "epoch 10; iter: 0; batch classifier loss: 0.605949; batch adversarial loss: 0.283302\n",
            "epoch 10; iter: 200; batch classifier loss: 0.634969; batch adversarial loss: 0.401879\n",
            "epoch 11; iter: 0; batch classifier loss: 0.668248; batch adversarial loss: 0.287171\n",
            "epoch 11; iter: 200; batch classifier loss: 0.647293; batch adversarial loss: 0.221387\n",
            "epoch 12; iter: 0; batch classifier loss: 0.629497; batch adversarial loss: 0.268116\n",
            "epoch 12; iter: 200; batch classifier loss: 0.668125; batch adversarial loss: 0.279001\n",
            "epoch 13; iter: 0; batch classifier loss: 0.591348; batch adversarial loss: 0.287476\n",
            "epoch 13; iter: 200; batch classifier loss: 0.594450; batch adversarial loss: 0.298553\n",
            "epoch 14; iter: 0; batch classifier loss: 0.605864; batch adversarial loss: 0.264951\n",
            "epoch 14; iter: 200; batch classifier loss: 0.702537; batch adversarial loss: 0.279501\n",
            "epoch 15; iter: 0; batch classifier loss: 0.628349; batch adversarial loss: 0.362813\n",
            "epoch 15; iter: 200; batch classifier loss: 0.587849; batch adversarial loss: 0.306904\n",
            "epoch 16; iter: 0; batch classifier loss: 0.655435; batch adversarial loss: 0.274472\n",
            "epoch 16; iter: 200; batch classifier loss: 0.651373; batch adversarial loss: 0.330004\n",
            "epoch 17; iter: 0; batch classifier loss: 0.617578; batch adversarial loss: 0.371672\n",
            "epoch 17; iter: 200; batch classifier loss: 0.663255; batch adversarial loss: 0.404845\n",
            "epoch 18; iter: 0; batch classifier loss: 0.677101; batch adversarial loss: 0.292672\n",
            "epoch 18; iter: 200; batch classifier loss: 0.599879; batch adversarial loss: 0.242991\n",
            "epoch 19; iter: 0; batch classifier loss: 0.574413; batch adversarial loss: 0.237749\n",
            "epoch 19; iter: 200; batch classifier loss: 0.591182; batch adversarial loss: 0.344554\n",
            "epoch 20; iter: 0; batch classifier loss: 0.642516; batch adversarial loss: 0.276941\n",
            "epoch 20; iter: 200; batch classifier loss: 0.660156; batch adversarial loss: 0.365834\n",
            "epoch 21; iter: 0; batch classifier loss: 0.618914; batch adversarial loss: 0.346403\n",
            "epoch 21; iter: 200; batch classifier loss: 0.606686; batch adversarial loss: 0.276831\n",
            "epoch 22; iter: 0; batch classifier loss: 0.586726; batch adversarial loss: 0.312300\n",
            "epoch 22; iter: 200; batch classifier loss: 0.622240; batch adversarial loss: 0.257243\n",
            "epoch 23; iter: 0; batch classifier loss: 0.648595; batch adversarial loss: 0.237485\n",
            "epoch 23; iter: 200; batch classifier loss: 0.629198; batch adversarial loss: 0.328936\n",
            "epoch 24; iter: 0; batch classifier loss: 0.597894; batch adversarial loss: 0.239324\n",
            "epoch 24; iter: 200; batch classifier loss: 0.604335; batch adversarial loss: 0.439071\n",
            "epoch 25; iter: 0; batch classifier loss: 0.588231; batch adversarial loss: 0.345846\n",
            "epoch 25; iter: 200; batch classifier loss: 0.597940; batch adversarial loss: 0.289412\n",
            "epoch 26; iter: 0; batch classifier loss: 0.649841; batch adversarial loss: 0.293747\n",
            "epoch 26; iter: 200; batch classifier loss: 0.644103; batch adversarial loss: 0.367796\n",
            "epoch 27; iter: 0; batch classifier loss: 0.610719; batch adversarial loss: 0.274702\n",
            "epoch 27; iter: 200; batch classifier loss: 0.603770; batch adversarial loss: 0.366692\n",
            "epoch 28; iter: 0; batch classifier loss: 0.575770; batch adversarial loss: 0.309097\n",
            "epoch 28; iter: 200; batch classifier loss: 0.594059; batch adversarial loss: 0.381604\n",
            "epoch 29; iter: 0; batch classifier loss: 0.634311; batch adversarial loss: 0.313660\n",
            "epoch 29; iter: 200; batch classifier loss: 0.565468; batch adversarial loss: 0.332610\n",
            "epoch 30; iter: 0; batch classifier loss: 0.589227; batch adversarial loss: 0.272536\n",
            "epoch 30; iter: 200; batch classifier loss: 0.653505; batch adversarial loss: 0.253548\n",
            "epoch 31; iter: 0; batch classifier loss: 0.610121; batch adversarial loss: 0.253257\n",
            "epoch 31; iter: 200; batch classifier loss: 0.610938; batch adversarial loss: 0.327868\n",
            "epoch 32; iter: 0; batch classifier loss: 0.603371; batch adversarial loss: 0.353191\n",
            "epoch 32; iter: 200; batch classifier loss: 0.578434; batch adversarial loss: 0.330629\n",
            "epoch 33; iter: 0; batch classifier loss: 0.612277; batch adversarial loss: 0.344210\n",
            "epoch 33; iter: 200; batch classifier loss: 0.532608; batch adversarial loss: 0.224495\n",
            "epoch 34; iter: 0; batch classifier loss: 0.610272; batch adversarial loss: 0.292682\n",
            "epoch 34; iter: 200; batch classifier loss: 0.577616; batch adversarial loss: 0.330715\n",
            "epoch 35; iter: 0; batch classifier loss: 0.619930; batch adversarial loss: 0.457841\n",
            "epoch 35; iter: 200; batch classifier loss: 0.693989; batch adversarial loss: 0.252629\n",
            "epoch 36; iter: 0; batch classifier loss: 0.610494; batch adversarial loss: 0.218398\n",
            "epoch 36; iter: 200; batch classifier loss: 0.643617; batch adversarial loss: 0.310997\n",
            "epoch 37; iter: 0; batch classifier loss: 0.628685; batch adversarial loss: 0.311241\n",
            "epoch 37; iter: 200; batch classifier loss: 0.608201; batch adversarial loss: 0.331090\n",
            "epoch 38; iter: 0; batch classifier loss: 0.580595; batch adversarial loss: 0.238743\n",
            "epoch 38; iter: 200; batch classifier loss: 0.612093; batch adversarial loss: 0.364619\n",
            "epoch 39; iter: 0; batch classifier loss: 0.540964; batch adversarial loss: 0.398724\n",
            "epoch 39; iter: 200; batch classifier loss: 0.639470; batch adversarial loss: 0.254267\n",
            "epoch 40; iter: 0; batch classifier loss: 0.568540; batch adversarial loss: 0.325662\n",
            "epoch 40; iter: 200; batch classifier loss: 0.547746; batch adversarial loss: 0.284770\n",
            "epoch 41; iter: 0; batch classifier loss: 0.570464; batch adversarial loss: 0.291227\n",
            "epoch 41; iter: 200; batch classifier loss: 0.562243; batch adversarial loss: 0.353186\n",
            "epoch 42; iter: 0; batch classifier loss: 0.574901; batch adversarial loss: 0.188695\n",
            "epoch 42; iter: 200; batch classifier loss: 0.624758; batch adversarial loss: 0.310403\n",
            "epoch 43; iter: 0; batch classifier loss: 0.582131; batch adversarial loss: 0.329495\n",
            "epoch 43; iter: 200; batch classifier loss: 0.625477; batch adversarial loss: 0.367158\n",
            "epoch 44; iter: 0; batch classifier loss: 0.658037; batch adversarial loss: 0.294942\n",
            "epoch 44; iter: 200; batch classifier loss: 0.543897; batch adversarial loss: 0.235898\n",
            "epoch 45; iter: 0; batch classifier loss: 0.612717; batch adversarial loss: 0.328601\n",
            "epoch 45; iter: 200; batch classifier loss: 0.587876; batch adversarial loss: 0.184929\n",
            "epoch 46; iter: 0; batch classifier loss: 0.589568; batch adversarial loss: 0.312719\n",
            "epoch 46; iter: 200; batch classifier loss: 0.673977; batch adversarial loss: 0.329534\n",
            "epoch 47; iter: 0; batch classifier loss: 0.650825; batch adversarial loss: 0.347321\n",
            "epoch 47; iter: 200; batch classifier loss: 0.592087; batch adversarial loss: 0.272490\n",
            "epoch 48; iter: 0; batch classifier loss: 0.608306; batch adversarial loss: 0.295339\n",
            "epoch 48; iter: 200; batch classifier loss: 0.616457; batch adversarial loss: 0.350046\n",
            "epoch 49; iter: 0; batch classifier loss: 0.607854; batch adversarial loss: 0.256216\n",
            "epoch 49; iter: 200; batch classifier loss: 0.622975; batch adversarial loss: 0.251524\n"
          ]
        },
        {
          "data": {
            "text/plain": [
              "<aif360.algorithms.inprocessing.adversarial_debiasing.AdversarialDebiasing at 0x780c06eaadd0>"
            ]
          },
          "execution_count": 18,
          "metadata": {},
          "output_type": "execute_result"
        }
      ],
      "source": [
        "debiased_model.fit(df_train)"
      ]
    },
    {
      "cell_type": "code",
      "execution_count": null,
      "metadata": {
        "id": "SUagJgTLEJCS"
      },
      "outputs": [],
      "source": [
        "# Apply the plain model to test data\n",
        "dataset_debiasing_train = debiased_model.predict(df_train)\n",
        "dataset_debiasing_test = debiased_model.predict(df_test)"
      ]
    },
    {
      "cell_type": "code",
      "execution_count": null,
      "metadata": {
        "colab": {
          "background_save": true
        },
        "id": "xOEbN9-yEctn",
        "outputId": "2ce964cf-170b-4f6e-ee32-0265eaf35f62"
      },
      "outputs": [
        {
          "data": {
            "text/markdown": "#### Plain model - without debiasing - dataset metrics",
            "text/plain": [
              "<IPython.core.display.Markdown object>"
            ]
          },
          "metadata": {},
          "output_type": "display_data"
        },
        {
          "name": "stdout",
          "output_type": "stream",
          "text": [
            "Train set: Difference in mean outcomes between unprivileged and privileged groups = -0.062625\n",
            "Test set: Difference in mean outcomes between unprivileged and privileged groups = -0.050994\n"
          ]
        },
        {
          "data": {
            "text/markdown": "#### Model - with debiasing - dataset metrics",
            "text/plain": [
              "<IPython.core.display.Markdown object>"
            ]
          },
          "metadata": {},
          "output_type": "display_data"
        },
        {
          "name": "stdout",
          "output_type": "stream",
          "text": [
            "Train set: Difference in mean outcomes between unprivileged and privileged groups = 0.051619\n",
            "Test set: Difference in mean outcomes between unprivileged and privileged groups = 0.053275\n"
          ]
        },
        {
          "data": {
            "text/markdown": "#### Plain model - without debiasing - classification metrics",
            "text/plain": [
              "<IPython.core.display.Markdown object>"
            ]
          },
          "metadata": {},
          "output_type": "display_data"
        },
        {
          "name": "stdout",
          "output_type": "stream",
          "text": [
            "Test set: Classification accuracy = 0.715286\n",
            "Test set: Balanced classification accuracy = 0.715414\n",
            "Test set: Disparate impact = 0.891648\n",
            "Test set: Equal opportunity difference = -0.030241\n",
            "Test set: Average odds difference = -0.040829\n",
            "Test set: Theil_index = 0.215282\n"
          ]
        },
        {
          "data": {
            "text/markdown": "#### Model - with debiasing - classification metrics",
            "text/plain": [
              "<IPython.core.display.Markdown object>"
            ]
          },
          "metadata": {},
          "output_type": "display_data"
        },
        {
          "name": "stdout",
          "output_type": "stream",
          "text": [
            "Test set: Classification accuracy = 0.701667\n",
            "Test set: Balanced classification accuracy = 0.701904\n",
            "Test set: Disparate impact = 1.123261\n",
            "Test set: Equal opportunity difference = 0.088587\n",
            "Test set: Average odds difference = 0.063342\n",
            "Test set: Theil_index = 0.240236\n"
          ]
        }
      ],
      "source": []
    }
  ],
  "metadata": {
    "colab": {
      "provenance": []
    },
    "kernelspec": {
      "display_name": "Python 3",
      "name": "python3"
    },
    "language_info": {
      "name": "python"
    }
  },
  "nbformat": 4,
  "nbformat_minor": 0
}